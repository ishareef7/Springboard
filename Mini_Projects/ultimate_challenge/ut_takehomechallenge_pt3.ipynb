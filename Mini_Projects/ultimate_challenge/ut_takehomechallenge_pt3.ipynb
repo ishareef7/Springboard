{
 "cells": [
  {
   "cell_type": "code",
   "execution_count": 1,
   "metadata": {},
   "outputs": [],
   "source": [
    "import json\n",
    "import pandas as pd\n",
    "import numpy as np\n",
    "from sklearn.preprocessing import StandardScaler , OneHotEncoder, LabelBinarizer\n",
    "from sklearn.compose import ColumnTransformer\n",
    "from sklearn.model_selection import train_test_split\n",
    "from sklearn.metrics import confusion_matrix\n",
    "from sklearn.linear_model import LogisticRegressionCV\n",
    "from sklearn.svm import SVC\n",
    "from sklearn.utils import resample\n",
    "from sklearn.metrics import roc_auc_score\n",
    "from sklearn.model_selection import GridSearchCV\n",
    "\n",
    "import matplotlib.pyplot as plt\n",
    "import seaborn as sns\n",
    "\n",
    "sns.set(palette = 'bright', style = 'ticks')"
   ]
  },
  {
   "cell_type": "code",
   "execution_count": 2,
   "metadata": {},
   "outputs": [],
   "source": [
    "with open('ultimate_data_challenge.json') as outfile:\n",
    "    data  = json.load(outfile)"
   ]
  },
  {
   "cell_type": "code",
   "execution_count": 3,
   "metadata": {},
   "outputs": [],
   "source": [
    "retention_data = pd.DataFrame.from_dict(data, orient = 'columns')"
   ]
  },
  {
   "cell_type": "code",
   "execution_count": 4,
   "metadata": {},
   "outputs": [
    {
     "name": "stdout",
     "output_type": "stream",
     "text": [
      "<class 'pandas.core.frame.DataFrame'>\n",
      "RangeIndex: 50000 entries, 0 to 49999\n",
      "Data columns (total 12 columns):\n",
      "avg_dist                  50000 non-null float64\n",
      "avg_rating_by_driver      49799 non-null float64\n",
      "avg_rating_of_driver      41878 non-null float64\n",
      "avg_surge                 50000 non-null float64\n",
      "city                      50000 non-null object\n",
      "last_trip_date            50000 non-null object\n",
      "phone                     49604 non-null object\n",
      "signup_date               50000 non-null object\n",
      "surge_pct                 50000 non-null float64\n",
      "trips_in_first_30_days    50000 non-null int64\n",
      "ultimate_black_user       50000 non-null bool\n",
      "weekday_pct               50000 non-null float64\n",
      "dtypes: bool(1), float64(6), int64(1), object(4)\n",
      "memory usage: 4.2+ MB\n"
     ]
    }
   ],
   "source": [
    "retention_data.info()"
   ]
  },
  {
   "cell_type": "code",
   "execution_count": 5,
   "metadata": {},
   "outputs": [],
   "source": [
    "retention_data.last_trip_date = pd.to_datetime(retention_data.last_trip_date)\n",
    "retention_data.signup_date = pd.to_datetime(retention_data.signup_date)"
   ]
  },
  {
   "cell_type": "code",
   "execution_count": 6,
   "metadata": {},
   "outputs": [],
   "source": [
    "retention_data['registered_time_span'] = retention_data.last_trip_date.max() - retention_data.signup_date"
   ]
  },
  {
   "cell_type": "code",
   "execution_count": 7,
   "metadata": {},
   "outputs": [
    {
     "data": {
      "text/plain": [
       "Timedelta('181 days 00:00:00')"
      ]
     },
     "execution_count": 7,
     "metadata": {},
     "output_type": "execute_result"
    }
   ],
   "source": [
    "retention_data['registered_time_span'].max()"
   ]
  },
  {
   "cell_type": "code",
   "execution_count": 8,
   "metadata": {},
   "outputs": [
    {
     "data": {
      "text/plain": [
       "Timedelta('151 days 00:00:00')"
      ]
     },
     "execution_count": 8,
     "metadata": {},
     "output_type": "execute_result"
    }
   ],
   "source": [
    "retention_data['registered_time_span'].min()"
   ]
  },
  {
   "cell_type": "code",
   "execution_count": 9,
   "metadata": {},
   "outputs": [
    {
     "data": {
      "text/plain": [
       "Timestamp('2014-07-01 00:00:00')"
      ]
     },
     "execution_count": 9,
     "metadata": {},
     "output_type": "execute_result"
    }
   ],
   "source": [
    "retention_data.last_trip_date.max()"
   ]
  },
  {
   "cell_type": "code",
   "execution_count": 10,
   "metadata": {},
   "outputs": [],
   "source": [
    "active_mask = retention_data.last_trip_date.max() - retention_data['last_trip_date'] < np.timedelta64(30 , 'D')"
   ]
  },
  {
   "cell_type": "code",
   "execution_count": 11,
   "metadata": {},
   "outputs": [],
   "source": [
    "retention_data.loc[active_mask, 'active'] = 1\n",
    "retention_data.active = retention_data.active.fillna(0)"
   ]
  },
  {
   "cell_type": "code",
   "execution_count": 12,
   "metadata": {},
   "outputs": [
    {
     "data": {
      "text/plain": [
       "0.0    31690\n",
       "1.0    18310\n",
       "Name: active, dtype: int64"
      ]
     },
     "execution_count": 12,
     "metadata": {},
     "output_type": "execute_result"
    }
   ],
   "source": [
    "retention_data.active.value_counts()"
   ]
  },
  {
   "cell_type": "code",
   "execution_count": 13,
   "metadata": {},
   "outputs": [],
   "source": [
    "avg_rating_by_driver =  retention_data[retention_data.avg_rating_by_driver.notnull()].avg_rating_by_driver\n",
    "avg_rating_by_driver = avg_rating_by_driver[avg_rating_by_driver > 4]"
   ]
  },
  {
   "cell_type": "code",
   "execution_count": 14,
   "metadata": {},
   "outputs": [
    {
     "data": {
      "text/plain": [
       "<matplotlib.axes._subplots.AxesSubplot at 0x1a1e45ba20>"
      ]
     },
     "execution_count": 14,
     "metadata": {},
     "output_type": "execute_result"
    },
    {
     "data": {
      "image/png": "[encoded data removed]",
      "text/plain": [
       "<Figure size 432x288 with 1 Axes>"
      ]
     },
     "metadata": {
      "needs_background": "light"
     },
     "output_type": "display_data"
    }
   ],
   "source": [
    "sns.distplot(avg_rating_by_driver, kde = False)"
   ]
  },
  {
   "cell_type": "code",
   "execution_count": 15,
   "metadata": {},
   "outputs": [],
   "source": [
    "avg_rating_of_driver =  retention_data[retention_data.avg_rating_of_driver.notnull()].avg_rating_of_driver\n",
    "avg_rating_of_driver = avg_rating_of_driver[avg_rating_of_driver > 4]"
   ]
  },
  {
   "cell_type": "code",
   "execution_count": 16,
   "metadata": {},
   "outputs": [
    {
     "data": {
      "text/plain": [
       "<matplotlib.axes._subplots.AxesSubplot at 0x1a1bd92940>"
      ]
     },
     "execution_count": 16,
     "metadata": {},
     "output_type": "execute_result"
    },
    {
     "data": {
      "image/png": "[encoded data removed]",
      "text/plain": [
       "<Figure size 432x288 with 1 Axes>"
      ]
     },
     "metadata": {
      "needs_background": "light"
     },
     "output_type": "display_data"
    }
   ],
   "source": [
    "sns.distplot(avg_rating_of_driver, kde = False)"
   ]
  },
  {
   "cell_type": "code",
   "execution_count": 17,
   "metadata": {},
   "outputs": [],
   "source": [
    "avg_dist_0 = retention_data.loc[(retention_data.avg_dist < 25) & (retention_data.active == 0 )].avg_dist\n",
    "avg_dist_1 = retention_data.loc[(retention_data.avg_dist < 25) & (retention_data.active == 1 )].avg_dist\n",
    "m_0 = avg_dist_0.median()\n",
    "m_1 = avg_dist_1.median()"
   ]
  },
  {
   "cell_type": "code",
   "execution_count": 18,
   "metadata": {},
   "outputs": [
    {
     "data": {
      "text/plain": [
       "3.94"
      ]
     },
     "execution_count": 18,
     "metadata": {},
     "output_type": "execute_result"
    }
   ],
   "source": [
    "m_0"
   ]
  },
  {
   "cell_type": "code",
   "execution_count": 19,
   "metadata": {},
   "outputs": [
    {
     "data": {
      "image/png": "[encoded data removed]",
      "text/plain": [
       "<Figure size 864x432 with 2 Axes>"
      ]
     },
     "metadata": {
      "needs_background": "light"
     },
     "output_type": "display_data"
    }
   ],
   "source": [
    "fig, (ax1, ax2) = plt.subplots(ncols=2, figsize=(12,6))\n",
    "\n",
    "c1 = sns.distplot(avg_dist_0, kde = False, color =  'r', ax = ax1)\n",
    "c1.axvline(m_0, color='k', linestyle='dashed', linewidth=3)\n",
    "_, max_ = ax1.get_ylim()\n",
    "c1.text(m_0 + m_0/10, max_ - max_/5, \n",
    "        'Median: {:.2f} mi'.format(m_0),fontsize=14)\n",
    "c1.set_xlabel('Distance (mi)')\n",
    "c1.set_ylabel('Frequency')\n",
    "c1.set_title('Inactive', fontsize = 14)\n",
    "\n",
    "c2 = sns.distplot(avg_dist_1, kde = False, color =  'b', ax = ax2)\n",
    "c2.axvline(m_1, color='k', linestyle='dashed', linewidth=3)\n",
    "_, max_ = ax2.get_ylim()\n",
    "c2.text(m_1 + m_1/10, max_ - max_/5, \n",
    "        'Median: {:.2f} mi'.format(m_1),fontsize=14)\n",
    "c2.set_xlabel('Distance (mi)')\n",
    "c2.set_ylabel('Frequency')\n",
    "c2.set_title('Active', fontsize = 14)\n",
    "\n",
    "_ = fig.suptitle('Distribution of Average Trip Distance (First 30 Days)', fontsize = 16)\n",
    "\n",
    "fig.savefig('c1.jpg')"
   ]
  },
  {
   "cell_type": "code",
   "execution_count": 20,
   "metadata": {},
   "outputs": [],
   "source": [
    "weekday_pct = retention_data[(retention_data.weekday_pct > 20) & (retention_data.weekday_pct < 95)].weekday_pct"
   ]
  },
  {
   "cell_type": "code",
   "execution_count": 21,
   "metadata": {},
   "outputs": [
    {
     "data": {
      "image/png": "[encoded data removed]",
      "text/plain": [
       "<Figure size 432x288 with 1 Axes>"
      ]
     },
     "metadata": {
      "needs_background": "light"
     },
     "output_type": "display_data"
    }
   ],
   "source": [
    "c2 = sns.distplot(weekday_pct, kde = False)\n",
    "\n",
    "c2.axvline(weekday_pct.mean(), color='k', linestyle='dashed', linewidth=3)\n",
    "_, max_ = c2.get_ylim()\n",
    "c2.text(weekday_pct.mean() + weekday_pct.mean()/10, max_ - max_/5, \n",
    "        'Mean: {:.2f}%'.format(weekday_pct.mean()),fontsize=14)\n",
    "c2.set_xlabel('Percentage %')\n",
    "c2.set_ylabel('Frequency')\n",
    "c2.set_title('Distribution of Percentages of Weekday Trips', fontsize = 14)\n",
    "c2.get_figure().savefig('c2.jpg')"
   ]
  },
  {
   "cell_type": "code",
   "execution_count": 22,
   "metadata": {},
   "outputs": [],
   "source": [
    "trips_in_first_30_days = retention_data[(retention_data.trips_in_first_30_days < 20) & (retention_data.trips_in_first_30_days > 0)].trips_in_first_30_days"
   ]
  },
  {
   "cell_type": "code",
   "execution_count": 23,
   "metadata": {},
   "outputs": [
    {
     "data": {
      "text/plain": [
       "Text(0.5, 1.0, 'Distibution of the Number of Trips in First 30 Days')"
      ]
     },
     "execution_count": 23,
     "metadata": {},
     "output_type": "execute_result"
    },
    {
     "data": {
      "image/png": "[encoded data removed]",
      "text/plain": [
       "<Figure size 432x288 with 1 Axes>"
      ]
     },
     "metadata": {
      "needs_background": "light"
     },
     "output_type": "display_data"
    }
   ],
   "source": [
    "c3 = sns.distplot(trips_in_first_30_days, kde = False)\n",
    "\n",
    "c3.axvline(trips_in_first_30_days.median(), color='k', linestyle='dashed', linewidth=3)\n",
    "_, max_ = c3.get_ylim()\n",
    "c3.text(trips_in_first_30_days.median() + trips_in_first_30_days.median()/10, max_ - max_/5, \n",
    "        'Median: {:.2f}'.format(trips_in_first_30_days.median()),fontsize=14)\n",
    "c3.set_xlabel('Number of Trips')\n",
    "c3.set_ylabel('Frequency')\n",
    "c3.set_title('Distibution of the Number of Trips in First 30 Days', fontsize = 14)"
   ]
  },
  {
   "cell_type": "markdown",
   "metadata": {},
   "source": [
    "## Pre-Processing"
   ]
  },
  {
   "cell_type": "code",
   "execution_count": 24,
   "metadata": {},
   "outputs": [],
   "source": [
    "#Fill Missing values with median of column\n",
    "avg_rating_of_driver_median  = retention_data.avg_rating_of_driver.median()\n",
    "retention_data.avg_rating_of_driver = retention_data.avg_rating_of_driver.fillna(avg_rating_of_driver_median)\n",
    "\n",
    "avg_rating_by_driver_median  = retention_data.avg_rating_by_driver.median()\n",
    "retention_data.avg_rating_by_driver = retention_data.avg_rating_by_driver.fillna(avg_rating_by_driver_median)\n",
    "\n",
    "#Get days as integers\n",
    "retention_data.registered_time_span = retention_data.registered_time_span.dt.days"
   ]
  },
  {
   "cell_type": "code",
   "execution_count": 25,
   "metadata": {},
   "outputs": [],
   "source": [
    "features_majority_unsampled = retention_data[retention_data.active == 0]\n",
    "features_minority = retention_data[retention_data.active == 1]\n",
    "\n",
    "features_majority = resample(features_majority_unsampled, replace = False, \n",
    "                             n_samples = features_minority.shape[0], random_state = 7)\n",
    "\n",
    "features_combined = pd.concat([features_majority,features_minority])\n",
    "\n",
    "x_features = features_combined.drop(labels = ['last_trip_date', 'phone', \n",
    "                                                   'signup_date', 'active'], axis = 1) \n"
   ]
  },
  {
   "cell_type": "code",
   "execution_count": 26,
   "metadata": {},
   "outputs": [],
   "source": [
    "#Processing\n",
    "scaler = StandardScaler()\n",
    "enc = OneHotEncoder(drop = 'first')\n",
    "binarize = LabelBinarizer()\n",
    "transformer = ColumnTransformer(transformers = [('scaler', scaler, ['avg_dist','avg_rating_by_driver',\n",
    "                                                                   'avg_rating_of_driver', 'avg_surge',\n",
    "                                                                   'surge_pct','trips_in_first_30_days',\n",
    "                                                                   'weekday_pct','registered_time_span']),\n",
    "                                                ('onehot',enc, ['city'])], sparse_threshold = 0, \n",
    "                                remainder = 'passthrough')\n",
    "\n",
    "features = transformer.fit_transform(x_features)"
   ]
  },
  {
   "cell_type": "code",
   "execution_count": 27,
   "metadata": {},
   "outputs": [],
   "source": [
    "X = features\n",
    "y = features_combined.active\n",
    "X_train, X_test, y_train, y_test = train_test_split(X, y, test_size =.2, random_state = 7)"
   ]
  },
  {
   "cell_type": "markdown",
   "metadata": {},
   "source": [
    "## Logistic Regression Model"
   ]
  },
  {
   "cell_type": "code",
   "execution_count": 28,
   "metadata": {},
   "outputs": [],
   "source": [
    "lgr = LogisticRegressionCV(cv = 5, random_state = 7, max_iter = 1000)\n",
    "_ = lgr.fit(X_train, y_train)"
   ]
  },
  {
   "cell_type": "code",
   "execution_count": 29,
   "metadata": {},
   "outputs": [
    {
     "name": "stdout",
     "output_type": "stream",
     "text": [
      "Logistic Regression Test Set Accuracy = 0.6807755324959038\n"
     ]
    }
   ],
   "source": [
    "print(\"Logistic Regression Test Set Accuracy =\", lgr.score(X_test,y_test))"
   ]
  },
  {
   "cell_type": "markdown",
   "metadata": {},
   "source": [
    "Code below was repurposed from code that can be found at:https://scikit-learn.org/stable/auto_examples/model_selection/plot_confusion_matrix.html#sphx-glr-auto-examples-model-selection-plot-confusion-matrix-py"
   ]
  },
  {
   "cell_type": "code",
   "execution_count": 30,
   "metadata": {},
   "outputs": [],
   "source": [
    "def plot_confusion_matrix(y_true, y_pred, classes,\n",
    "                          normalize=False,\n",
    "                          title=None,\n",
    "                          cmap=plt.cm.Blues, filename = 'confusion_matrix.jpg'):\n",
    "    \"\"\"\n",
    "    This function prints and plots the confusion matrix.\n",
    "    Normalization can be applied by setting `normalize=True`.\n",
    "    \"\"\"\n",
    "    if not title:\n",
    "        if normalize:\n",
    "            title = 'Normalized confusion matrix'\n",
    "        else:\n",
    "            title = 'Confusion matrix, without normalization'\n",
    "\n",
    "    # Compute confusion matrix\n",
    "    cm = confusion_matrix(y_true, y_pred)\n",
    "    # Only use the labels that appear in the data\n",
    "    #classes = classes[unique_labels(y_true, y_pred)]\n",
    "    if normalize:\n",
    "        cm = cm.astype('float') / cm.sum(axis=1)[:, np.newaxis]\n",
    "        print(\"Normalized confusion matrix\")\n",
    "    else:\n",
    "        print('Confusion matrix, without normalization')\n",
    "\n",
    "    print(cm)\n",
    "\n",
    "    fig, ax = plt.subplots(figsize=(7, 7))\n",
    "    im = ax.imshow(cm, interpolation='nearest', cmap=cmap)\n",
    "    ax.figure.colorbar(im, ax=ax)\n",
    "    # We want to show all ticks...\n",
    "    ax.set(xticks=np.arange(cm.shape[1]),\n",
    "           yticks=np.arange(cm.shape[0]),\n",
    "           # ... and label them with the respective list entries\n",
    "           xticklabels=classes, yticklabels=classes,\n",
    "           title=title,\n",
    "           ylabel='True label',\n",
    "           xlabel='Predicted label')\n",
    "\n",
    "    # Rotate the tick labels and set their alignment.\n",
    "    plt.setp(ax.get_xticklabels(), rotation=45, ha=\"right\",\n",
    "             rotation_mode=\"anchor\")\n",
    "\n",
    "    # Loop over data dimensions and create text annotations.\n",
    "    fmt = '.2f' if normalize else 'd'\n",
    "    thresh = cm.max() / 2.\n",
    "    for i in range(cm.shape[0]):\n",
    "        for j in range(cm.shape[1]):\n",
    "            ax.text(j, i, format(cm[i, j], fmt),\n",
    "                    ha=\"center\", va=\"center\",\n",
    "                    color=\"white\" if cm[i, j] > thresh else \"black\")\n",
    "    fig.tight_layout()\n",
    "    fig.savefig(filename)\n",
    "    return ax"
   ]
  },
  {
   "cell_type": "code",
   "execution_count": 46,
   "metadata": {},
   "outputs": [
    {
     "name": "stdout",
     "output_type": "stream",
     "text": [
      "Normalized confusion matrix\n",
      "[[0.7051799  0.2948201 ]\n",
      " [0.34262387 0.65737613]]\n"
     ]
    },
    {
     "data": {
      "image/png": "[encoded data removed]",
      "text/plain": [
       "<Figure size 504x504 with 2 Axes>"
      ]
     },
     "metadata": {
      "needs_background": "light"
     },
     "output_type": "display_data"
    }
   ],
   "source": [
    "pred = lgr.predict(X_test)\n",
    "title = 'Logistic Regression Normalized Confusion Matrix'\n",
    "c4 = plot_confusion_matrix(y_test, pred,normalize=True, classes = ['Not Active','Active'], title = title )\n",
    "c4.get_figure().savefig('c4.jpg')"
   ]
  },
  {
   "cell_type": "code",
   "execution_count": 32,
   "metadata": {},
   "outputs": [],
   "source": [
    "x_features = retention_data.drop(labels = ['last_trip_date', 'phone', \n",
    "                                                   'signup_date', 'active'], axis = 1)\n",
    "features = transformer.fit_transform(x_features)\n",
    "\n",
    "X = features\n",
    "y = retention_data.active\n",
    "X_train, X_test, y_train, y_test = train_test_split(X, y, test_size =.2, random_state = 7)"
   ]
  },
  {
   "cell_type": "markdown",
   "metadata": {},
   "source": [
    "## SVC Model"
   ]
  },
  {
   "cell_type": "code",
   "execution_count": 33,
   "metadata": {},
   "outputs": [],
   "source": [
    "svc = SVC(kernel = 'linear', class_weight = 'balanced', probability = True, random_state = 7)\n",
    "_ = svc.fit(X_train,y_train)"
   ]
  },
  {
   "cell_type": "code",
   "execution_count": 34,
   "metadata": {},
   "outputs": [
    {
     "name": "stdout",
     "output_type": "stream",
     "text": [
      "SVC Regression Test Set Accuracy = 0.7118\n"
     ]
    }
   ],
   "source": [
    "print(\"SVC Regression Test Set Accuracy =\", svc.score(X_test,y_test))"
   ]
  },
  {
   "cell_type": "code",
   "execution_count": 48,
   "metadata": {},
   "outputs": [
    {
     "name": "stdout",
     "output_type": "stream",
     "text": [
      "Normalized confusion matrix\n",
      "[[0.80459057 0.19540943]\n",
      " [0.45664414 0.54335586]]\n"
     ]
    },
    {
     "data": {
      "image/png": "[encoded data removed]",
      "text/plain": [
       "<Figure size 504x504 with 2 Axes>"
      ]
     },
     "metadata": {
      "needs_background": "light"
     },
     "output_type": "display_data"
    }
   ],
   "source": [
    "pred = svc.predict(X_test)\n",
    "title = 'SVC Normalized Confusion Matrix'\n",
    "c5 = plot_confusion_matrix(y_test, pred,normalize=True, classes = ['Not Active','Active'], title = title)\n",
    "c5.get_figure().savefig('c5.jpg')"
   ]
  },
  {
   "cell_type": "code",
   "execution_count": 41,
   "metadata": {},
   "outputs": [],
   "source": [
    "onehot_features = transformer.named_transformers_['onehot'].get_feature_names()\n",
    "procesed_feature_names = ['avg_dist', 'avg_rating_by_driver', 'avg_rating_of_driver', 'avg_surge', 'surge_pct',\n",
    "                          'trips_in_first_30_days', 'weekday_pct','registered_time_span'] + list(onehot_features) + ['ultimate_black_user']"
   ]
  },
  {
   "cell_type": "code",
   "execution_count": 42,
   "metadata": {},
   "outputs": [],
   "source": [
    "model_coef = pd.DataFrame(svc.coef_.T, index = procesed_feature_names, columns = ['coef']).sort_values('coef')"
   ]
  },
  {
   "cell_type": "code",
   "execution_count": 43,
   "metadata": {},
   "outputs": [
    {
     "data": {
      "text/html": [
       "<div>\n",
       "<style scoped>\n",
       "    .dataframe tbody tr th:only-of-type {\n",
       "        vertical-align: middle;\n",
       "    }\n",
       "\n",
       "    .dataframe tbody tr th {\n",
       "        vertical-align: top;\n",
       "    }\n",
       "\n",
       "    .dataframe thead th {\n",
       "        text-align: right;\n",
       "    }\n",
       "</style>\n",
       "<table border=\"1\" class=\"dataframe\">\n",
       "  <thead>\n",
       "    <tr style=\"text-align: right;\">\n",
       "      <th></th>\n",
       "      <th>coef</th>\n",
       "    </tr>\n",
       "  </thead>\n",
       "  <tbody>\n",
       "    <tr>\n",
       "      <th>avg_dist</th>\n",
       "      <td>-0.113121</td>\n",
       "    </tr>\n",
       "    <tr>\n",
       "      <th>avg_rating_of_driver</th>\n",
       "      <td>-0.075680</td>\n",
       "    </tr>\n",
       "    <tr>\n",
       "      <th>avg_rating_by_driver</th>\n",
       "      <td>-0.041282</td>\n",
       "    </tr>\n",
       "    <tr>\n",
       "      <th>avg_surge</th>\n",
       "      <td>-0.013112</td>\n",
       "    </tr>\n",
       "    <tr>\n",
       "      <th>weekday_pct</th>\n",
       "      <td>0.015248</td>\n",
       "    </tr>\n",
       "    <tr>\n",
       "      <th>surge_pct</th>\n",
       "      <td>0.035436</td>\n",
       "    </tr>\n",
       "    <tr>\n",
       "      <th>registered_time_span</th>\n",
       "      <td>0.045875</td>\n",
       "    </tr>\n",
       "    <tr>\n",
       "      <th>x0_Winterfell</th>\n",
       "      <td>0.262007</td>\n",
       "    </tr>\n",
       "    <tr>\n",
       "      <th>trips_in_first_30_days</th>\n",
       "      <td>0.593089</td>\n",
       "    </tr>\n",
       "    <tr>\n",
       "      <th>ultimate_black_user</th>\n",
       "      <td>0.671849</td>\n",
       "    </tr>\n",
       "    <tr>\n",
       "      <th>x0_King's Landing</th>\n",
       "      <td>1.914423</td>\n",
       "    </tr>\n",
       "  </tbody>\n",
       "</table>\n",
       "</div>"
      ],
      "text/plain": [
       "                            coef\n",
       "avg_dist               -0.113121\n",
       "avg_rating_of_driver   -0.075680\n",
       "avg_rating_by_driver   -0.041282\n",
       "avg_surge              -0.013112\n",
       "weekday_pct             0.015248\n",
       "surge_pct               0.035436\n",
       "registered_time_span    0.045875\n",
       "x0_Winterfell           0.262007\n",
       "trips_in_first_30_days  0.593089\n",
       "ultimate_black_user     0.671849\n",
       "x0_King's Landing       1.914423"
      ]
     },
     "execution_count": 43,
     "metadata": {},
     "output_type": "execute_result"
    }
   ],
   "source": [
    "model_coef"
   ]
  },
  {
   "cell_type": "code",
   "execution_count": 44,
   "metadata": {},
   "outputs": [],
   "source": [
    "model_coef_max_abs = abs(model_coef).sort_values('coef', ascending = False)"
   ]
  },
  {
   "cell_type": "code",
   "execution_count": 45,
   "metadata": {},
   "outputs": [
    {
     "data": {
      "text/html": [
       "<div>\n",
       "<style scoped>\n",
       "    .dataframe tbody tr th:only-of-type {\n",
       "        vertical-align: middle;\n",
       "    }\n",
       "\n",
       "    .dataframe tbody tr th {\n",
       "        vertical-align: top;\n",
       "    }\n",
       "\n",
       "    .dataframe thead th {\n",
       "        text-align: right;\n",
       "    }\n",
       "</style>\n",
       "<table border=\"1\" class=\"dataframe\">\n",
       "  <thead>\n",
       "    <tr style=\"text-align: right;\">\n",
       "      <th></th>\n",
       "      <th>coef</th>\n",
       "    </tr>\n",
       "  </thead>\n",
       "  <tbody>\n",
       "    <tr>\n",
       "      <th>x0_King's Landing</th>\n",
       "      <td>1.914423</td>\n",
       "    </tr>\n",
       "    <tr>\n",
       "      <th>ultimate_black_user</th>\n",
       "      <td>0.671849</td>\n",
       "    </tr>\n",
       "    <tr>\n",
       "      <th>trips_in_first_30_days</th>\n",
       "      <td>0.593089</td>\n",
       "    </tr>\n",
       "    <tr>\n",
       "      <th>x0_Winterfell</th>\n",
       "      <td>0.262007</td>\n",
       "    </tr>\n",
       "    <tr>\n",
       "      <th>avg_dist</th>\n",
       "      <td>0.113121</td>\n",
       "    </tr>\n",
       "    <tr>\n",
       "      <th>avg_rating_of_driver</th>\n",
       "      <td>0.075680</td>\n",
       "    </tr>\n",
       "    <tr>\n",
       "      <th>registered_time_span</th>\n",
       "      <td>0.045875</td>\n",
       "    </tr>\n",
       "    <tr>\n",
       "      <th>avg_rating_by_driver</th>\n",
       "      <td>0.041282</td>\n",
       "    </tr>\n",
       "    <tr>\n",
       "      <th>surge_pct</th>\n",
       "      <td>0.035436</td>\n",
       "    </tr>\n",
       "    <tr>\n",
       "      <th>weekday_pct</th>\n",
       "      <td>0.015248</td>\n",
       "    </tr>\n",
       "    <tr>\n",
       "      <th>avg_surge</th>\n",
       "      <td>0.013112</td>\n",
       "    </tr>\n",
       "  </tbody>\n",
       "</table>\n",
       "</div>"
      ],
      "text/plain": [
       "                            coef\n",
       "x0_King's Landing       1.914423\n",
       "ultimate_black_user     0.671849\n",
       "trips_in_first_30_days  0.593089\n",
       "x0_Winterfell           0.262007\n",
       "avg_dist                0.113121\n",
       "avg_rating_of_driver    0.075680\n",
       "registered_time_span    0.045875\n",
       "avg_rating_by_driver    0.041282\n",
       "surge_pct               0.035436\n",
       "weekday_pct             0.015248\n",
       "avg_surge               0.013112"
      ]
     },
     "execution_count": 45,
     "metadata": {},
     "output_type": "execute_result"
    }
   ],
   "source": [
    "model_coef_max_abs"
   ]
  },
  {
   "cell_type": "code",
   "execution_count": 54,
   "metadata": {},
   "outputs": [
    {
     "name": "stdout",
     "output_type": "stream",
     "text": [
      "0.6226061204343534\n"
     ]
    }
   ],
   "source": [
    "kl_pct = retention_data[retention_data.city  == \"King's Landing\"].active.sum() / retention_data[retention_data.city  == \"King's Landing\"].shape[0]\n",
    "print(kl_pct)"
   ]
  },
  {
   "cell_type": "code",
   "execution_count": 55,
   "metadata": {},
   "outputs": [
    {
     "name": "stdout",
     "output_type": "stream",
     "text": [
      "0.34200377099760026\n"
     ]
    }
   ],
   "source": [
    "wn_pct = retention_data[retention_data.city  == \"Winterfell\"].active.sum() / retention_data[retention_data.city  == \"Winterfell\"].shape[0]\n",
    "print(wn_pct)"
   ]
  },
  {
   "cell_type": "code",
   "execution_count": 56,
   "metadata": {},
   "outputs": [
    {
     "name": "stdout",
     "output_type": "stream",
     "text": [
      "0.24325632030966493\n"
     ]
    }
   ],
   "source": [
    "as_pct = retention_data[retention_data.city  == \"Astapor\"].active.sum() / retention_data[retention_data.city  == \"Astapor\"].shape[0]\n",
    "print(as_pct)"
   ]
  },
  {
   "cell_type": "code",
   "execution_count": null,
   "metadata": {},
   "outputs": [],
   "source": []
  }
 ],
 "metadata": {
  "kernelspec": {
   "display_name": "Python 3",
   "language": "python",
   "name": "python3"
  },
  "language_info": {
   "codemirror_mode": {
    "name": "ipython",
    "version": 3
   },
   "file_extension": ".py",
   "mimetype": "text/x-python",
   "name": "python",
   "nbconvert_exporter": "python",
   "pygments_lexer": "ipython3",
   "version": "3.7.3"
  }
 },
 "nbformat": 4,
 "nbformat_minor": 2
}
