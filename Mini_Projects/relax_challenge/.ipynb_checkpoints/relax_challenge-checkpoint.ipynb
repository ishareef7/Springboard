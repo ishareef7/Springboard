{
 "cells": [
  {
   "cell_type": "code",
   "execution_count": 10,
   "metadata": {},
   "outputs": [],
   "source": [
    "import pandas as pd\n",
    "import numpy as np\n",
    "from sklearn.preprocessing import StandardScaler , OneHotEncoder\n",
    "from sklearn.compose import ColumnTransformer\n",
    "from sklearn.linear_model import LogisticRegressionCV\n",
    "from sklearn.model_selection import train_test_split\n",
    "from sklearn.linear_model import LogisticRegressionCV\n",
    "from sklearn.metrics import confusion_matrix\n",
    "from sklearn.utils.multiclass import unique_labels\n",
    "import matplotlib.pyplot as plt"
   ]
  },
  {
   "cell_type": "markdown",
   "metadata": {},
   "source": [
    "## Pre-processing"
   ]
  },
  {
   "cell_type": "code",
   "execution_count": 11,
   "metadata": {},
   "outputs": [],
   "source": [
    "#Load data files\n",
    "takehome_users = pd.read_csv('takehome_users.csv', index_col = 0, encoding = \"ISO-8859-1\")\n",
    "takehome_user_engagement = pd.read_csv('takehome_user_engagement.csv', index_col = 0, encoding = \"ISO-8859-1\")"
   ]
  },
  {
   "cell_type": "code",
   "execution_count": 12,
   "metadata": {},
   "outputs": [],
   "source": [
    "#Encode Datetime columns\n",
    "takehome_users.creation_time = pd.to_datetime(takehome_users.creation_time)\n",
    "takehome_users.last_session_creation_time = pd.to_datetime(takehome_users.last_session_creation_time, unit = 's')"
   ]
  },
  {
   "cell_type": "code",
   "execution_count": 13,
   "metadata": {},
   "outputs": [],
   "source": [
    "#Convert Index to Datetime\n",
    "takehome_user_engagement.index = pd.to_datetime(takehome_user_engagement.index)"
   ]
  },
  {
   "cell_type": "code",
   "execution_count": 14,
   "metadata": {},
   "outputs": [
    {
     "data": {
      "text/plain": [
       "(207917, 2)"
      ]
     },
     "execution_count": 14,
     "metadata": {},
     "output_type": "execute_result"
    }
   ],
   "source": [
    "takehome_user_engagement.shape"
   ]
  },
  {
   "cell_type": "code",
   "execution_count": 15,
   "metadata": {},
   "outputs": [
    {
     "data": {
      "text/plain": [
       "(12000, 9)"
      ]
     },
     "execution_count": 15,
     "metadata": {},
     "output_type": "execute_result"
    }
   ],
   "source": [
    "takehome_users.shape"
   ]
  },
  {
   "cell_type": "code",
   "execution_count": 16,
   "metadata": {},
   "outputs": [],
   "source": [
    "#Create features for days_since_session and account_age. \n",
    "#Assuption made that the latest date in the dataset is the reference point for both features\n",
    "takehome_users['days_since_session'] = (takehome_users.last_session_creation_time.max() - \n",
    "                                        takehome_users.last_session_creation_time).dt.days\n",
    "takehome_users['account_age'] = (takehome_users.last_session_creation_time.max() - \n",
    "                                        takehome_users.creation_time).dt.days"
   ]
  },
  {
   "cell_type": "code",
   "execution_count": 17,
   "metadata": {},
   "outputs": [],
   "source": [
    "#Rolling sum calculation to cont the amount of visits a usser had made in a 7 day window\n",
    "rs7 = takehome_user_engagement.groupby('user_id').rolling('7D').sum()"
   ]
  },
  {
   "cell_type": "code",
   "execution_count": 18,
   "metadata": {},
   "outputs": [],
   "source": [
    "#Get users that have vistied 3 times in a 7 day window at least once. These are adopted users\n",
    "adopted_users = np.unique(rs7[rs7['visited'] >= 3].index.get_level_values(0))"
   ]
  },
  {
   "cell_type": "code",
   "execution_count": 19,
   "metadata": {},
   "outputs": [],
   "source": [
    "#Create labels for adopted users\n",
    "takehome_users.loc[takehome_users.invited_by_user_id.notnull(),'invited'] = 1\n",
    "takehome_users.invited = takehome_users.invited.fillna(0)"
   ]
  },
  {
   "cell_type": "code",
   "execution_count": 20,
   "metadata": {},
   "outputs": [],
   "source": [
    "takehome_users.loc[adopted_users,'adopted'] = 1\n",
    "takehome_users.adopted = takehome_users.adopted.fillna(0)"
   ]
  },
  {
   "cell_type": "code",
   "execution_count": 104,
   "metadata": {},
   "outputs": [],
   "source": [
    "#Create feature dataset. All null values are discarded\n",
    "feature_cols = ['creation_source', 'opted_in_to_mailing_list', 'enabled_for_marketing_drip', \n",
    "               'days_since_session', 'account_age']\n",
    "features = takehome_users.loc[:,feature_cols].dropna()"
   ]
  },
  {
   "cell_type": "code",
   "execution_count": 117,
   "metadata": {},
   "outputs": [
    {
     "data": {
      "text/plain": [
       "(8823, 5)"
      ]
     },
     "execution_count": 117,
     "metadata": {},
     "output_type": "execute_result"
    }
   ],
   "source": [
    "features.shape"
   ]
  },
  {
   "cell_type": "code",
   "execution_count": 106,
   "metadata": {},
   "outputs": [],
   "source": [
    "#Processing\n",
    "scaler = StandardScaler()\n",
    "enc = OneHotEncoder(drop = 'first')\n",
    "transformer = ColumnTransformer(transformers = [('scaler', scaler, ['account_age', 'days_since_session']),\n",
    "                                                ('onehot',enc, ['creation_source'])],\n",
    "                               remainder = 'passthrough', sparse_threshold = 0)\n",
    "features_processed = transformer.fit_transform(features)"
   ]
  },
  {
   "cell_type": "markdown",
   "metadata": {},
   "source": [
    "## Logistic Regression Model and Results"
   ]
  },
  {
   "cell_type": "code",
   "execution_count": 107,
   "metadata": {},
   "outputs": [],
   "source": [
    "X = features_processed\n",
    "y = takehome_users.loc[features.index,'adopted'].astype('int64')\n",
    "X_train, X_test, y_train, y_test = train_test_split(X, y, test_size =.8, random_state = 7)"
   ]
  },
  {
   "cell_type": "code",
   "execution_count": 108,
   "metadata": {},
   "outputs": [],
   "source": [
    "lgr = LogisticRegressionCV(cv = 5, random_state = 7, max_iter = 1000)\n",
    "_ = lgr.fit(X_train, y_train)"
   ]
  },
  {
   "cell_type": "code",
   "execution_count": 109,
   "metadata": {},
   "outputs": [
    {
     "name": "stdout",
     "output_type": "stream",
     "text": [
      "Logistic Regression Test Set Accuracy = 0.9641592293525996\n"
     ]
    }
   ],
   "source": [
    "print(\"Logistic Regression Test Set Accuracy =\", lgr.score(X_test,y_test))"
   ]
  },
  {
   "cell_type": "code",
   "execution_count": 110,
   "metadata": {},
   "outputs": [],
   "source": [
    "pred = lgr.predict(X_test)"
   ]
  },
  {
   "cell_type": "code",
   "execution_count": 123,
   "metadata": {},
   "outputs": [],
   "source": [
    "def plot_confusion_matrix(y_true, y_pred, classes,\n",
    "                          normalize=False,\n",
    "                          title=None,\n",
    "                          cmap=plt.cm.Blues, filename = 'confusion_matrix.jpg'):\n",
    "    \"\"\"\n",
    "    This function prints and plots the confusion matrix.\n",
    "    Normalization can be applied by setting `normalize=True`.\n",
    "    \"\"\"\n",
    "    if not title:\n",
    "        if normalize:\n",
    "            title = 'Normalized confusion matrix'\n",
    "        else:\n",
    "            title = 'Confusion matrix, without normalization'\n",
    "\n",
    "    # Compute confusion matrix\n",
    "    cm = confusion_matrix(y_true, y_pred)\n",
    "    # Only use the labels that appear in the data\n",
    "    #classes = classes[unique_labels(y_true, y_pred)]\n",
    "    if normalize:\n",
    "        cm = cm.astype('float') / cm.sum(axis=1)[:, np.newaxis]\n",
    "        print(\"Normalized confusion matrix\")\n",
    "    else:\n",
    "        print('Confusion matrix, without normalization')\n",
    "\n",
    "    print(cm)\n",
    "\n",
    "    fig, ax = plt.subplots(figsize=(7, 7))\n",
    "    im = ax.imshow(cm, interpolation='nearest', cmap=cmap)\n",
    "    ax.figure.colorbar(im, ax=ax)\n",
    "    # We want to show all ticks...\n",
    "    ax.set(xticks=np.arange(cm.shape[1]),\n",
    "           yticks=np.arange(cm.shape[0]),\n",
    "           # ... and label them with the respective list entries\n",
    "           xticklabels=classes, yticklabels=classes,\n",
    "           title=title,\n",
    "           ylabel='True label',\n",
    "           xlabel='Predicted label')\n",
    "\n",
    "    # Rotate the tick labels and set their alignment.\n",
    "    plt.setp(ax.get_xticklabels(), rotation=45, ha=\"right\",\n",
    "             rotation_mode=\"anchor\")\n",
    "\n",
    "    # Loop over data dimensions and create text annotations.\n",
    "    fmt = '.2f' if normalize else 'd'\n",
    "    thresh = cm.max() / 2.\n",
    "    for i in range(cm.shape[0]):\n",
    "        for j in range(cm.shape[1]):\n",
    "            ax.text(j, i, format(cm[i, j], fmt),\n",
    "                    ha=\"center\", va=\"center\",\n",
    "                    color=\"white\" if cm[i, j] > thresh else \"black\")\n",
    "    fig.tight_layout()\n",
    "    fig.savefig(filename)\n",
    "    return ax"
   ]
  },
  {
   "cell_type": "code",
   "execution_count": 124,
   "metadata": {},
   "outputs": [
    {
     "name": "stdout",
     "output_type": "stream",
     "text": [
      "Normalized confusion matrix\n",
      "[[0.99241118 0.00758882]\n",
      " [0.16574148 0.83425852]]\n"
     ]
    },
    {
     "data": {
      "text/plain": [
       "<matplotlib.axes._subplots.AxesSubplot at 0x1a190d49b0>"
      ]
     },
     "execution_count": 124,
     "metadata": {},
     "output_type": "execute_result"
    },
    {
     "data": {
      "image/png": "[encoded data removed]",
      "text/plain": [
       "<Figure size 504x504 with 2 Axes>"
      ]
     },
     "metadata": {
      "needs_background": "light"
     },
     "output_type": "display_data"
    }
   ],
   "source": [
    "plot_confusion_matrix(y_test, pred,normalize=True, classes = ['Non-Adopted','Adopted'])"
   ]
  },
  {
   "cell_type": "code",
   "execution_count": 99,
   "metadata": {},
   "outputs": [],
   "source": [
    "onehot_features = transformer.named_transformers_['onehot'].get_feature_names()"
   ]
  },
  {
   "cell_type": "code",
   "execution_count": 113,
   "metadata": {},
   "outputs": [],
   "source": [
    "procesed_feature_names = ['account_age','days_since_session'] + list(onehot_features) + ['opted_in_to_mailing_list', \n",
    "                                                                                         'enabled_for_marketing_drip']"
   ]
  },
  {
   "cell_type": "code",
   "execution_count": 114,
   "metadata": {},
   "outputs": [],
   "source": [
    "model_coef = pd.DataFrame(lgr.coef_.T, index = procesed_feature_names, columns = ['coef']).sort_values('coef')"
   ]
  },
  {
   "cell_type": "code",
   "execution_count": 115,
   "metadata": {},
   "outputs": [],
   "source": [
    "model_coef_max_abs = abs(model_coef).sort_values('coef', ascending = False)"
   ]
  },
  {
   "cell_type": "code",
   "execution_count": 116,
   "metadata": {},
   "outputs": [
    {
     "data": {
      "text/html": [
       "<div>\n",
       "<style scoped>\n",
       "    .dataframe tbody tr th:only-of-type {\n",
       "        vertical-align: middle;\n",
       "    }\n",
       "\n",
       "    .dataframe tbody tr th {\n",
       "        vertical-align: top;\n",
       "    }\n",
       "\n",
       "    .dataframe thead th {\n",
       "        text-align: right;\n",
       "    }\n",
       "</style>\n",
       "<table border=\"1\" class=\"dataframe\">\n",
       "  <thead>\n",
       "    <tr style=\"text-align: right;\">\n",
       "      <th></th>\n",
       "      <th>coef</th>\n",
       "    </tr>\n",
       "  </thead>\n",
       "  <tbody>\n",
       "    <tr>\n",
       "      <th>days_since_session</th>\n",
       "      <td>9.914559</td>\n",
       "    </tr>\n",
       "    <tr>\n",
       "      <th>account_age</th>\n",
       "      <td>8.996095</td>\n",
       "    </tr>\n",
       "    <tr>\n",
       "      <th>x0_SIGNUP_GOOGLE_AUTH</th>\n",
       "      <td>0.343943</td>\n",
       "    </tr>\n",
       "    <tr>\n",
       "      <th>x0_SIGNUP</th>\n",
       "      <td>0.317670</td>\n",
       "    </tr>\n",
       "    <tr>\n",
       "      <th>opted_in_to_mailing_list</th>\n",
       "      <td>0.222040</td>\n",
       "    </tr>\n",
       "    <tr>\n",
       "      <th>enabled_for_marketing_drip</th>\n",
       "      <td>0.219706</td>\n",
       "    </tr>\n",
       "    <tr>\n",
       "      <th>x0_ORG_INVITE</th>\n",
       "      <td>0.199462</td>\n",
       "    </tr>\n",
       "    <tr>\n",
       "      <th>x0_PERSONAL_PROJECTS</th>\n",
       "      <td>0.122942</td>\n",
       "    </tr>\n",
       "  </tbody>\n",
       "</table>\n",
       "</div>"
      ],
      "text/plain": [
       "                                coef\n",
       "days_since_session          9.914559\n",
       "account_age                 8.996095\n",
       "x0_SIGNUP_GOOGLE_AUTH       0.343943\n",
       "x0_SIGNUP                   0.317670\n",
       "opted_in_to_mailing_list    0.222040\n",
       "enabled_for_marketing_drip  0.219706\n",
       "x0_ORG_INVITE               0.199462\n",
       "x0_PERSONAL_PROJECTS        0.122942"
      ]
     },
     "execution_count": 116,
     "metadata": {},
     "output_type": "execute_result"
    }
   ],
   "source": [
    "model_coef_max_abs"
   ]
  },
  {
   "cell_type": "code",
   "execution_count": 119,
   "metadata": {},
   "outputs": [
    {
     "data": {
      "text/html": [
       "<div>\n",
       "<style scoped>\n",
       "    .dataframe tbody tr th:only-of-type {\n",
       "        vertical-align: middle;\n",
       "    }\n",
       "\n",
       "    .dataframe tbody tr th {\n",
       "        vertical-align: top;\n",
       "    }\n",
       "\n",
       "    .dataframe thead th {\n",
       "        text-align: right;\n",
       "    }\n",
       "</style>\n",
       "<table border=\"1\" class=\"dataframe\">\n",
       "  <thead>\n",
       "    <tr style=\"text-align: right;\">\n",
       "      <th></th>\n",
       "      <th>coef</th>\n",
       "    </tr>\n",
       "  </thead>\n",
       "  <tbody>\n",
       "    <tr>\n",
       "      <th>days_since_session</th>\n",
       "      <td>-9.914559</td>\n",
       "    </tr>\n",
       "    <tr>\n",
       "      <th>x0_SIGNUP_GOOGLE_AUTH</th>\n",
       "      <td>-0.343943</td>\n",
       "    </tr>\n",
       "    <tr>\n",
       "      <th>enabled_for_marketing_drip</th>\n",
       "      <td>-0.219706</td>\n",
       "    </tr>\n",
       "    <tr>\n",
       "      <th>x0_PERSONAL_PROJECTS</th>\n",
       "      <td>-0.122942</td>\n",
       "    </tr>\n",
       "    <tr>\n",
       "      <th>x0_ORG_INVITE</th>\n",
       "      <td>0.199462</td>\n",
       "    </tr>\n",
       "    <tr>\n",
       "      <th>opted_in_to_mailing_list</th>\n",
       "      <td>0.222040</td>\n",
       "    </tr>\n",
       "    <tr>\n",
       "      <th>x0_SIGNUP</th>\n",
       "      <td>0.317670</td>\n",
       "    </tr>\n",
       "    <tr>\n",
       "      <th>account_age</th>\n",
       "      <td>8.996095</td>\n",
       "    </tr>\n",
       "  </tbody>\n",
       "</table>\n",
       "</div>"
      ],
      "text/plain": [
       "                                coef\n",
       "days_since_session         -9.914559\n",
       "x0_SIGNUP_GOOGLE_AUTH      -0.343943\n",
       "enabled_for_marketing_drip -0.219706\n",
       "x0_PERSONAL_PROJECTS       -0.122942\n",
       "x0_ORG_INVITE               0.199462\n",
       "opted_in_to_mailing_list    0.222040\n",
       "x0_SIGNUP                   0.317670\n",
       "account_age                 8.996095"
      ]
     },
     "execution_count": 119,
     "metadata": {},
     "output_type": "execute_result"
    }
   ],
   "source": [
    "model_coef"
   ]
  },
  {
   "cell_type": "code",
   "execution_count": null,
   "metadata": {},
   "outputs": [],
   "source": []
  }
 ],
 "metadata": {
  "kernelspec": {
   "display_name": "Python 3",
   "language": "python",
   "name": "python3"
  }
 },
 "nbformat": 4,
 "nbformat_minor": 2
}
