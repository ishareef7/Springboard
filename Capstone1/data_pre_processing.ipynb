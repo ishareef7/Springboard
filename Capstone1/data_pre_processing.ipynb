{
 "cells": [
  {
   "cell_type": "code",
   "execution_count": 131,
   "metadata": {},
   "outputs": [],
   "source": [
    "import pandas as pd\n",
    "import numpy as np\n",
    "import pickle"
   ]
  },
  {
   "cell_type": "code",
   "execution_count": 188,
   "metadata": {},
   "outputs": [],
   "source": [
    "recs = pd.read_csv('Datasets/recs2015_public_v4.csv', index_col = 'DOEID')"
   ]
  },
  {
   "cell_type": "code",
   "execution_count": 133,
   "metadata": {},
   "outputs": [],
   "source": [
    "with open('variable_map.pickle','rb') as handle:\n",
    "    var_map = pickle.load(handle)"
   ]
  },
  {
   "cell_type": "code",
   "execution_count": 134,
   "metadata": {},
   "outputs": [],
   "source": [
    "with open('variable_descriptions.pickle','rb') as handle:\n",
    "    var_des = pickle.load(handle)"
   ]
  },
  {
   "cell_type": "code",
   "execution_count": 135,
   "metadata": {},
   "outputs": [],
   "source": [
    "with open('variable_labels.pickle','rb') as handle:\n",
    "    var_labels = pickle.load(handle)"
   ]
  },
  {
   "cell_type": "code",
   "execution_count": 139,
   "metadata": {},
   "outputs": [
    {
     "data": {
      "text/plain": [
       "NGXBTU    3304\n",
       "dtype: int64"
      ]
     },
     "execution_count": 139,
     "metadata": {},
     "output_type": "execute_result"
    }
   ],
   "source": [
    "nullcounts = recs.count()\n",
    "nullcounts[nullcounts<5686]"
   ]
  },
  {
   "cell_type": "code",
   "execution_count": 148,
   "metadata": {},
   "outputs": [
    {
     "data": {
      "text/plain": [
       "2382"
      ]
     },
     "execution_count": 148,
     "metadata": {},
     "output_type": "execute_result"
    }
   ],
   "source": [
    "len(recs[recs['USENG'] == 0])"
   ]
  },
  {
   "cell_type": "code",
   "execution_count": 101,
   "metadata": {},
   "outputs": [
    {
     "name": "stdout",
     "output_type": "stream",
     "text": [
      "<class 'pandas.core.frame.DataFrame'>\n",
      "Int64Index: 5686 entries, 10001 to 15686\n",
      "Columns: 758 entries, REGIONC to ZLPAMOUNT\n",
      "dtypes: float64(262), int64(492), object(4)\n",
      "memory usage: 32.9+ MB\n"
     ]
    }
   ],
   "source": [
    "recs.info()"
   ]
  },
  {
   "cell_type": "code",
   "execution_count": 104,
   "metadata": {},
   "outputs": [],
   "source": [
    "imputed_mask = pd.Series(['Imputation' in des for des in var_des.values()], \n",
    "                         index = var_des.keys())\n",
    "flag_cols = recs.iloc[:,imputed_mask.values].columns\n",
    "non_flag_cols = recs.iloc[:,np.invert(imputed_mask.values)].columns\n",
    "all_cols = recs.columns"
   ]
  },
  {
   "cell_type": "code",
   "execution_count": 160,
   "metadata": {},
   "outputs": [
    {
     "data": {
      "text/plain": [
       "count     217.000000\n",
       "mean     4022.534562\n",
       "std      1965.258396\n",
       "min        48.000000\n",
       "25%      2193.000000\n",
       "50%      5066.000000\n",
       "75%      5589.000000\n",
       "max      5686.000000\n",
       "Name: 0, dtype: float64"
      ]
     },
     "execution_count": 160,
     "metadata": {},
     "output_type": "execute_result"
    }
   ],
   "source": [
    "imputed_counts = recs[flag_cols].apply(pd.value_counts).fillna(0).iloc[1]\n",
    "imputed_counts.describe()"
   ]
  },
  {
   "cell_type": "code",
   "execution_count": 105,
   "metadata": {},
   "outputs": [],
   "source": [
    "recs.iloc[:,imputed_mask.values] = recs.iloc[:,imputed_mask.values].replace(to_replace = 1\n",
    "                                                                            , value = np.nan)"
   ]
  },
  {
   "cell_type": "code",
   "execution_count": 106,
   "metadata": {},
   "outputs": [],
   "source": [
    "imputed_cols = [col[1:] for col in flag_cols if col[1:] in all_cols]"
   ]
  },
  {
   "cell_type": "code",
   "execution_count": 107,
   "metadata": {},
   "outputs": [],
   "source": [
    "imputed_dict = dict(zip(flag_cols,imputed_cols))"
   ]
  },
  {
   "cell_type": "code",
   "execution_count": 108,
   "metadata": {},
   "outputs": [],
   "source": [
    "tng_cols = ['CUFEETNG','BTUNG']\n",
    "el_cols = ['BTUEL','KWH']\n",
    "fo_cols = ['GALLONFO', 'BTUFO','GALLONFO']\n",
    "lp_cols = ['GALLONLP', 'BTULP']"
   ]
  },
  {
   "cell_type": "code",
   "execution_count": 109,
   "metadata": {},
   "outputs": [],
   "source": [
    "imputed_dict['ZELAMOUNT'] = el_cols\n",
    "imputed_dict['ZFOAMOUNT'] = fo_cols\n",
    "imputed_dict['ZLPAMOUNT'] = lp_cols\n",
    "imputed_dict['ZNGAMOUNT'] = tng_cols"
   ]
  },
  {
   "cell_type": "code",
   "execution_count": 110,
   "metadata": {},
   "outputs": [],
   "source": [
    "for flag_col,col  in imputed_dict.items():\n",
    "    missing_mask = recs[flag_col].isnull()\n",
    "    recs.loc[missing_mask,col] = np.nan"
   ]
  },
  {
   "cell_type": "code",
   "execution_count": 111,
   "metadata": {},
   "outputs": [],
   "source": [
    "dk_col_mask = pd.Series(['know' in label if type(label) is str else False for label in var_labels.values()], \n",
    "                         index = var_labels.keys())"
   ]
  },
  {
   "cell_type": "code",
   "execution_count": 180,
   "metadata": {},
   "outputs": [],
   "source": [
    "dk_cols = recs.iloc[:,dk_col_mask.values].columns\n",
    "recs.loc[:,dk_cols] = recs.loc[:,dk_cols].replace(to_replace = -9, value = np.nan)"
   ]
  },
  {
   "cell_type": "code",
   "execution_count": 182,
   "metadata": {},
   "outputs": [],
   "source": [
    "replicate_mask = pd.Series(['Replicate' in des for des in var_des.values()], \n",
    "                         index = var_des.keys())\n",
    "rep_cols = recs.iloc[:,replicate_mask.values].columns"
   ]
  },
  {
   "cell_type": "code",
   "execution_count": 183,
   "metadata": {},
   "outputs": [],
   "source": [
    "conv_mask = pd.Series(['conv' in des for des in var_des.values()], \n",
    "                         index = var_des.keys())"
   ]
  },
  {
   "cell_type": "code",
   "execution_count": 184,
   "metadata": {},
   "outputs": [],
   "source": [
    "conv_cols = recs.iloc[:,conv_mask.values].columns"
   ]
  },
  {
   "cell_type": "code",
   "execution_count": 187,
   "metadata": {},
   "outputs": [
    {
     "name": "stdout",
     "output_type": "stream",
     "text": [
      "<class 'pandas.core.frame.DataFrame'>\n",
      "Int64Index: 5686 entries, 10001 to 15686\n",
      "Columns: 541 entries, REGIONC to PERIODLP\n",
      "dtypes: float64(282), int64(255), object(4)\n",
      "memory usage: 23.5+ MB\n"
     ]
    }
   ],
   "source": [
    "recs_slim = recs[non_flag_cols]\n",
    "recs_slim.info()"
   ]
  },
  {
   "cell_type": "code",
   "execution_count": 149,
   "metadata": {},
   "outputs": [
    {
     "data": {
      "text/plain": [
       "217"
      ]
     },
     "execution_count": 149,
     "metadata": {},
     "output_type": "execute_result"
    }
   ],
   "source": [
    "len(flag_cols)"
   ]
  },
  {
   "cell_type": "code",
   "execution_count": 150,
   "metadata": {},
   "outputs": [
    {
     "data": {
      "text/plain": [
       "541"
      ]
     },
     "execution_count": 150,
     "metadata": {},
     "output_type": "execute_result"
    }
   ],
   "source": [
    "len(non_flag_cols)"
   ]
  },
  {
   "cell_type": "code",
   "execution_count": 162,
   "metadata": {},
   "outputs": [
    {
     "name": "stdout",
     "output_type": "stream",
     "text": [
      "<class 'pandas.core.frame.DataFrame'>\n",
      "Int64Index: 5686 entries, 10001 to 15686\n",
      "Columns: 445 entries, REGIONC to PERIODLP\n",
      "dtypes: float64(397), int64(44), object(4)\n",
      "memory usage: 19.3+ MB\n"
     ]
    }
   ],
   "source": [
    "recs_slim.info()"
   ]
  },
  {
   "cell_type": "code",
   "execution_count": null,
   "metadata": {},
   "outputs": [],
   "source": []
  }
 ],
 "metadata": {
  "kernelspec": {
   "display_name": "Python 3",
   "language": "python",
   "name": "python3"
  },
  "language_info": {
   "codemirror_mode": {
    "name": "ipython",
    "version": 3
   },
   "file_extension": ".py",
   "mimetype": "text/x-python",
   "name": "python",
   "nbconvert_exporter": "python",
   "pygments_lexer": "ipython3",
   "version": "3.7.1"
  }
 },
 "nbformat": 4,
 "nbformat_minor": 2
}
