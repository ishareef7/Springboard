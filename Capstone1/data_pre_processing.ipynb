{
 "cells": [
  {
   "cell_type": "code",
   "execution_count": 100,
   "metadata": {},
   "outputs": [],
   "source": [
    "import pandas as pd\n",
    "import numpy as np\n",
    "import pickle"
   ]
  },
  {
   "cell_type": "code",
   "execution_count": 196,
   "metadata": {},
   "outputs": [],
   "source": [
    "recs = pd.read_csv('Datasets/recs2015_public_v4.csv', index_col = 'DOEID')"
   ]
  },
  {
   "cell_type": "code",
   "execution_count": 197,
   "metadata": {},
   "outputs": [],
   "source": [
    "with open('Datasets/variable_map.pickle','rb') as handle:\n",
    "    var_map = pickle.load(handle)"
   ]
  },
  {
   "cell_type": "code",
   "execution_count": 198,
   "metadata": {},
   "outputs": [],
   "source": [
    "with open('Datasets/variable_descriptions.pickle','rb') as handle:\n",
    "    var_des = pickle.load(handle)"
   ]
  },
  {
   "cell_type": "code",
   "execution_count": 199,
   "metadata": {},
   "outputs": [],
   "source": [
    "with open('Datasets/variable_labels.pickle','rb') as handle:\n",
    "    var_labels = pickle.load(handle)"
   ]
  },
  {
   "cell_type": "code",
   "execution_count": 200,
   "metadata": {},
   "outputs": [],
   "source": [
    "with open('Datasets/data_info.pickle','rb') as handle:\n",
    "    data_info = pickle.load(handle)"
   ]
  },
  {
   "cell_type": "code",
   "execution_count": 201,
   "metadata": {},
   "outputs": [
    {
     "data": {
      "text/plain": [
       "NGXBTU    3304\n",
       "dtype: int64"
      ]
     },
     "execution_count": 201,
     "metadata": {},
     "output_type": "execute_result"
    }
   ],
   "source": [
    "nullcounts = recs.count()\n",
    "nullcounts[nullcounts<5686]"
   ]
  },
  {
   "cell_type": "code",
   "execution_count": 202,
   "metadata": {},
   "outputs": [
    {
     "data": {
      "text/plain": [
       "2382"
      ]
     },
     "execution_count": 202,
     "metadata": {},
     "output_type": "execute_result"
    }
   ],
   "source": [
    "len(recs[recs['USENG'] == 0])"
   ]
  },
  {
   "cell_type": "code",
   "execution_count": 203,
   "metadata": {},
   "outputs": [
    {
     "name": "stdout",
     "output_type": "stream",
     "text": [
      "<class 'pandas.core.frame.DataFrame'>\n",
      "Int64Index: 5686 entries, 10001 to 15686\n",
      "Columns: 758 entries, REGIONC to ZLPAMOUNT\n",
      "dtypes: float64(262), int64(492), object(4)\n",
      "memory usage: 32.9+ MB\n"
     ]
    }
   ],
   "source": [
    "recs.info()"
   ]
  },
  {
   "cell_type": "code",
   "execution_count": 204,
   "metadata": {},
   "outputs": [],
   "source": [
    "imputed_mask = pd.Series(['Imputation' in des for des in var_des.values()], \n",
    "                         index = var_des.keys())\n",
    "flag_cols = recs.iloc[:,imputed_mask.values].columns\n",
    "non_flag_cols = recs.iloc[:,np.invert(imputed_mask.values)].columns\n",
    "all_cols = recs.columns"
   ]
  },
  {
   "cell_type": "code",
   "execution_count": 205,
   "metadata": {},
   "outputs": [
    {
     "data": {
      "text/plain": [
       "count     217.000000\n",
       "mean     4022.534562\n",
       "std      1965.258396\n",
       "min        48.000000\n",
       "25%      2193.000000\n",
       "50%      5066.000000\n",
       "75%      5589.000000\n",
       "max      5686.000000\n",
       "Name: 0, dtype: float64"
      ]
     },
     "execution_count": 205,
     "metadata": {},
     "output_type": "execute_result"
    }
   ],
   "source": [
    "imputed_counts = recs[flag_cols].apply(pd.value_counts).fillna(0).iloc[1]\n",
    "imputed_counts.describe()"
   ]
  },
  {
   "cell_type": "code",
   "execution_count": 206,
   "metadata": {},
   "outputs": [],
   "source": [
    "recs.iloc[:,imputed_mask.values] = recs.iloc[:,imputed_mask.values].replace(to_replace = 1\n",
    "                                                                            , value = np.nan)"
   ]
  },
  {
   "cell_type": "code",
   "execution_count": 207,
   "metadata": {},
   "outputs": [],
   "source": [
    "imputed_cols = [col[1:] for col in flag_cols if col[1:] in all_cols]"
   ]
  },
  {
   "cell_type": "code",
   "execution_count": 208,
   "metadata": {},
   "outputs": [],
   "source": [
    "imputed_dict = dict(zip(flag_cols,imputed_cols))"
   ]
  },
  {
   "cell_type": "code",
   "execution_count": 209,
   "metadata": {},
   "outputs": [],
   "source": [
    "tng_cols = ['CUFEETNG','BTUNG']\n",
    "el_cols = ['BTUEL','KWH']\n",
    "fo_cols = ['GALLONFO', 'BTUFO','GALLONFO']\n",
    "lp_cols = ['GALLONLP', 'BTULP']"
   ]
  },
  {
   "cell_type": "code",
   "execution_count": 210,
   "metadata": {},
   "outputs": [],
   "source": [
    "imputed_dict['ZELAMOUNT'] = el_cols\n",
    "imputed_dict['ZFOAMOUNT'] = fo_cols\n",
    "imputed_dict['ZLPAMOUNT'] = lp_cols\n",
    "imputed_dict['ZNGAMOUNT'] = tng_cols"
   ]
  },
  {
   "cell_type": "code",
   "execution_count": 211,
   "metadata": {},
   "outputs": [],
   "source": [
    "for flag_col,col  in imputed_dict.items():\n",
    "    missing_mask = recs[flag_col].isnull()\n",
    "    recs.loc[missing_mask,col] = np.nan"
   ]
  },
  {
   "cell_type": "code",
   "execution_count": 212,
   "metadata": {},
   "outputs": [],
   "source": [
    "dk_col_mask = pd.Series(['know' in label if type(label) is str else False for label in var_labels.values()], \n",
    "                         index = var_labels.keys())"
   ]
  },
  {
   "cell_type": "code",
   "execution_count": 213,
   "metadata": {},
   "outputs": [],
   "source": [
    "dk_cols = recs.iloc[:,dk_col_mask.values].columns\n",
    "recs.loc[:,dk_cols] = recs.loc[:,dk_cols].replace(to_replace = -9, value = np.nan)"
   ]
  },
  {
   "cell_type": "code",
   "execution_count": 214,
   "metadata": {},
   "outputs": [],
   "source": [
    "metro_encoding = {'METRO': 1,'MICRO': 2,'NONE': 3}\n",
    "ua_encoding= {'U': 1, 'C': 2, 'R': 3}\n",
    "climate_encoding = {'Cold/Very Cold': 1, 'Hot-Dry/Mixed-Dry': 2,'Hot-Humid': 3,'Mixed-Humid':4,'Marine': 5}\n",
    "iecc_encoding = {'1A-2A': 1, '2B': 2,'3A': 3,'3B-4B': 4,'3C': 5, '4A': 6,'4C': 7,'5A': 8, '5B-5C': 9,'6A-6B': 10,\n",
    "                 '7A-7B-7AK-8AK': 11}"
   ]
  },
  {
   "cell_type": "code",
   "execution_count": 215,
   "metadata": {},
   "outputs": [],
   "source": [
    "recs.METROMICRO = recs.METROMICRO.replace(metro_encoding)\n",
    "recs.UATYP10 = recs.UATYP10.replace(ua_encoding)\n",
    "recs.CLIMATE_REGION_PUB = recs.CLIMATE_REGION_PUB.replace(climate_encoding)\n",
    "recs.IECC_CLIMATE_PUB = recs.IECC_CLIMATE_PUB.replace(iecc_encoding)"
   ]
  },
  {
   "cell_type": "code",
   "execution_count": 216,
   "metadata": {},
   "outputs": [],
   "source": [
    "conv_mask = pd.Series(['conv' in des for des in var_des.values()], \n",
    "                         index = var_des.keys())"
   ]
  },
  {
   "cell_type": "code",
   "execution_count": 217,
   "metadata": {},
   "outputs": [],
   "source": [
    "conv_cols = recs.iloc[:,conv_mask.values].columns"
   ]
  },
  {
   "cell_type": "code",
   "execution_count": 218,
   "metadata": {},
   "outputs": [],
   "source": [
    "na_mask = pd.Series(['Not applicable' in label if type(label) is str else False for label in var_labels.values()], \n",
    "                         index = var_labels.keys())\n",
    "int_mask = data_info['data_type'] == 'INTEGER'\n",
    "recs.loc[:,na_mask & int_mask] = recs.loc[:,na_mask & int_mask].replace(-2,-1)"
   ]
  },
  {
   "cell_type": "code",
   "execution_count": 219,
   "metadata": {},
   "outputs": [
    {
     "name": "stdout",
     "output_type": "stream",
     "text": [
      "<class 'pandas.core.frame.DataFrame'>\n",
      "Int64Index: 5686 entries, 10001 to 15686\n",
      "Columns: 300 entries, REGIONC to PERIODLP\n",
      "dtypes: float64(252), int64(48)\n",
      "memory usage: 13.1 MB\n"
     ]
    }
   ],
   "source": [
    "recs_slim = recs.loc[:,data_info.include]\n",
    "recs_slim.info()"
   ]
  },
  {
   "cell_type": "code",
   "execution_count": 220,
   "metadata": {},
   "outputs": [
    {
     "data": {
      "text/plain": [
       "217"
      ]
     },
     "execution_count": 220,
     "metadata": {},
     "output_type": "execute_result"
    }
   ],
   "source": [
    "len(flag_cols)"
   ]
  },
  {
   "cell_type": "code",
   "execution_count": 221,
   "metadata": {},
   "outputs": [
    {
     "data": {
      "text/plain": [
       "541"
      ]
     },
     "execution_count": 221,
     "metadata": {},
     "output_type": "execute_result"
    }
   ],
   "source": [
    "len(non_flag_cols)"
   ]
  },
  {
   "cell_type": "code",
   "execution_count": 222,
   "metadata": {},
   "outputs": [
    {
     "name": "stdout",
     "output_type": "stream",
     "text": [
      "<class 'pandas.core.frame.DataFrame'>\n",
      "Int64Index: 5686 entries, 10001 to 15686\n",
      "Columns: 300 entries, REGIONC to PERIODLP\n",
      "dtypes: float64(252), int64(48)\n",
      "memory usage: 13.1 MB\n"
     ]
    }
   ],
   "source": [
    "recs_slim.info()"
   ]
  },
  {
   "cell_type": "code",
   "execution_count": 223,
   "metadata": {},
   "outputs": [],
   "source": [
    "recs_slim.to_pickle('Datasets/recs.pickle')"
   ]
  },
  {
   "cell_type": "code",
   "execution_count": 224,
   "metadata": {},
   "outputs": [],
   "source": [
    "recs.to_pickle('Datasets/recs_large.pickle')"
   ]
  },
  {
   "cell_type": "code",
   "execution_count": null,
   "metadata": {},
   "outputs": [],
   "source": []
  }
 ],
 "metadata": {
  "kernelspec": {
   "display_name": "Python 3",
   "language": "python",
   "name": "python3"
  },
  "language_info": {
   "codemirror_mode": {
    "name": "ipython",
    "version": 3
   },
   "file_extension": ".py",
   "mimetype": "text/x-python",
   "name": "python",
   "nbconvert_exporter": "python",
   "pygments_lexer": "ipython3",
   "version": "3.7.1"
  }
 },
 "nbformat": 4,
 "nbformat_minor": 2
}
