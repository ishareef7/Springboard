{
 "cells": [
  {
   "cell_type": "code",
   "execution_count": 1,
   "metadata": {},
   "outputs": [],
   "source": [
    "import pandas as pd\n",
    "import numpy as np\n",
    "import pickle\n",
    "from sklearn.feature_selection import VarianceThreshold\n",
    "from sklearn.preprocessing import StandardScaler, OrdinalEncoder\n",
    "from sklearn.feature_selection import SelectKBest, f_regression"
   ]
  },
  {
   "cell_type": "code",
   "execution_count": 2,
   "metadata": {},
   "outputs": [],
   "source": [
    "with open('Datasets/recs.pickle','rb') as handle:\n",
    "    recs = pickle.load(handle)"
   ]
  },
  {
   "cell_type": "code",
   "execution_count": 3,
   "metadata": {},
   "outputs": [],
   "source": [
    "with open('Datasets/data_info.pickle','rb') as handle:\n",
    "    data_info = pickle.load(handle)"
   ]
  },
  {
   "cell_type": "code",
   "execution_count": 4,
   "metadata": {},
   "outputs": [
    {
     "name": "stderr",
     "output_type": "stream",
     "text": [
      "/Users/ishareef7/anaconda3/lib/python3.7/site-packages/sklearn/preprocessing/data.py:625: DataConversionWarning: Data with input dtype int64, float64 were all converted to float64 by StandardScaler.\n",
      "  return self.partial_fit(X, y)\n",
      "/Users/ishareef7/anaconda3/lib/python3.7/site-packages/sklearn/base.py:462: DataConversionWarning: Data with input dtype int64, float64 were all converted to float64 by StandardScaler.\n",
      "  return self.fit(X, **fit_params).transform(X)\n"
     ]
    }
   ],
   "source": [
    "non_scaled_mask = data_info.data_type == 'FLOAT'\n",
    "non_scaled_features = recs.loc[:,non_scaled_mask].drop(['NWEIGHT','TOTALBTU','TOTALDOL'], axis=1)\n",
    "scaler = StandardScaler()\n",
    "recs.loc[:,non_scaled_features.columns] = scaler.fit_transform(non_scaled_features)"
   ]
  },
  {
   "cell_type": "code",
   "execution_count": 5,
   "metadata": {},
   "outputs": [],
   "source": [
    "ord_mask = data_info.data_type == 'ORDINAL'\n",
    "ordinal_features = recs.loc[:,ord_mask]\n",
    "enc =  OrdinalEncoder()\n",
    "recs.loc[:,ord_mask] = enc.fit_transform(ordinal_features)"
   ]
  },
  {
   "cell_type": "code",
   "execution_count": 6,
   "metadata": {},
   "outputs": [],
   "source": [
    "bool_mask = data_info.data_type == 'BOOLEAN'\n",
    "boolean_features = recs.loc[:,bool_mask]\n",
    "sel = VarianceThreshold(threshold=(.8 * (1 - .8)))\n",
    "sel.fit(boolean_features)\n",
    "\n",
    "bool_col_labels = boolean_features.loc[:,sel.get_support()].columns\n",
    "boolean_features = pd.DataFrame(sel.transform(boolean_features), columns = bool_col_labels, index = recs.index)"
   ]
  },
  {
   "cell_type": "code",
   "execution_count": 7,
   "metadata": {},
   "outputs": [],
   "source": [
    "cat_mask = data_info.data_type == 'CATEGORICAL'\n",
    "cat_features  = recs.loc[:,cat_mask]\n",
    "cat_dummies = pd.get_dummies(cat_features, drop_first = True, columns = cat_features.columns)\n",
    "cat_dummies.columns = [var.replace('.0','').replace('-','n') for var in cat_dummies.columns]"
   ]
  },
  {
   "cell_type": "code",
   "execution_count": 8,
   "metadata": {},
   "outputs": [],
   "source": [
    "recs_features = recs.loc[:,data_info.feature]\n",
    "recs_processed =  pd.concat([recs_features.loc[:,np.invert(cat_mask) & np.invert(bool_mask)], \n",
    "                             boolean_features, cat_dummies,recs['NWEIGHT'], recs['TOTALBTU'],\n",
    "                             recs['TOTALDOL']], axis =1)"
   ]
  },
  {
   "cell_type": "code",
   "execution_count": 9,
   "metadata": {},
   "outputs": [],
   "source": [
    "#X = recs_processed.iloc[:,:-2]\n",
    "#y = recs_processed['TOTALBTU']\n",
    "\n",
    "#selector = SelectKBest(f_regression, k=500)\n",
    "#X_new = selector.fit_transform(X, y)\n",
    "#features = recs_processed.loc[:,selector.get_support()].columns\n",
    "#recs_processed =  pd.DataFrame(X_new, columns = features, index = recs.index)"
   ]
  },
  {
   "cell_type": "code",
   "execution_count": 10,
   "metadata": {},
   "outputs": [],
   "source": [
    "recs_processed.to_pickle('Datasets/recs_processed.pickle')"
   ]
  },
  {
   "cell_type": "code",
   "execution_count": null,
   "metadata": {},
   "outputs": [],
   "source": []
  }
 ],
 "metadata": {
  "kernelspec": {
   "display_name": "Python 3",
   "language": "python",
   "name": "python3"
  },
  "language_info": {
   "codemirror_mode": {
    "name": "ipython",
    "version": 3
   },
   "file_extension": ".py",
   "mimetype": "text/x-python",
   "name": "python",
   "nbconvert_exporter": "python",
   "pygments_lexer": "ipython3",
   "version": "3.7.1"
  }
 },
 "nbformat": 4,
 "nbformat_minor": 2
}
