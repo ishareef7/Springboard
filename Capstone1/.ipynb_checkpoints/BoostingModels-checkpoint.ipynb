{
 "cells": [
  {
   "cell_type": "code",
   "execution_count": 47,
   "metadata": {},
   "outputs": [],
   "source": [
    "import pandas as pd\n",
    "import numpy as np\n",
    "import pickle\n",
    "from xgboost import XGBRegressor\n",
    "from sklearn.ensemble import GradientBoostingRegressor\n",
    "from sklearn.model_selection import train_test_split, GridSearchCV, RandomizedSearchCV\n",
    "from sklearn.metrics import r2_score , mean_squared_error , median_absolute_error\n",
    "from scipy.stats import randint"
   ]
  },
  {
   "cell_type": "code",
   "execution_count": 48,
   "metadata": {},
   "outputs": [],
   "source": [
    "with open('Datasets/recs_processed_otliers.pickle','rb') as handle:\n",
    "    recs_processed_otliers = pickle.load(handle)"
   ]
  },
  {
   "cell_type": "code",
   "execution_count": 49,
   "metadata": {},
   "outputs": [],
   "source": [
    "X = recs_processed_otliers.iloc[:,:-2]\n",
    "y = recs_processed_otliers['TOTALBTU']\n",
    "X_train, X_test, y_train, y_test = train_test_split(X, y, test_size = .2, random_state = 7)"
   ]
  },
  {
   "cell_type": "markdown",
   "metadata": {},
   "source": [
    "## Gradient Boosting Model"
   ]
  },
  {
   "cell_type": "code",
   "execution_count": 16,
   "metadata": {},
   "outputs": [],
   "source": [
    "gbr = GradientBoostingRegressor(random_state = 7)"
   ]
  },
  {
   "cell_type": "code",
   "execution_count": 18,
   "metadata": {},
   "outputs": [
    {
     "data": {
      "text/plain": [
       "GridSearchCV(cv=5, error_score='raise-deprecating',\n",
       "       estimator=GradientBoostingRegressor(alpha=0.9, criterion='friedman_mse', init=None,\n",
       "             learning_rate=0.1, loss='ls', max_depth=3, max_features=None,\n",
       "             max_leaf_nodes=None, min_impurity_decrease=0.0,\n",
       "             min_impurity_split=None, min_samples_leaf=1,\n",
       "             min_sampl...ate=7, subsample=1.0, tol=0.0001,\n",
       "             validation_fraction=0.1, verbose=0, warm_start=False),\n",
       "       fit_params=None, iid='warn', n_jobs=2,\n",
       "       param_grid={'n_estimators': [1500, 2200], 'max_features': [50, 80], 'max_depth': [6, 8], 'min_samples_split': [4]},\n",
       "       pre_dispatch='2*n_jobs', refit=True, return_train_score='warn',\n",
       "       scoring='neg_mean_squared_error', verbose=0)"
      ]
     },
     "execution_count": 18,
     "metadata": {},
     "output_type": "execute_result"
    }
   ],
   "source": [
    " param_grid = {'n_estimators': [1500,2200],\n",
    "               'max_features': [50,80],\n",
    "               'max_depth': [6,8],\n",
    "               'min_samples_split': [4],\n",
    "               }\n",
    "cv_gbr = GridSearchCV(estimator=gbr, param_grid=param_grid, n_jobs=2, cv=5, scoring = 'neg_mean_squared_error')\n",
    "cv_gbr.fit(X_train,y_train)"
   ]
  },
  {
   "cell_type": "code",
   "execution_count": 19,
   "metadata": {},
   "outputs": [
    {
     "data": {
      "text/plain": [
       "{'max_depth': 6,\n",
       " 'max_features': 80,\n",
       " 'min_samples_split': 4,\n",
       " 'n_estimators': 2200}"
      ]
     },
     "execution_count": 19,
     "metadata": {},
     "output_type": "execute_result"
    }
   ],
   "source": [
    "cv_gbr.best_params_"
   ]
  },
  {
   "cell_type": "code",
   "execution_count": 20,
   "metadata": {},
   "outputs": [
    {
     "data": {
      "text/plain": [
       "GradientBoostingRegressor(alpha=0.9, criterion='friedman_mse', init=None,\n",
       "             learning_rate=0.1, loss='ls', max_depth=6, max_features=80,\n",
       "             max_leaf_nodes=None, min_impurity_decrease=0.0,\n",
       "             min_impurity_split=None, min_samples_leaf=1,\n",
       "             min_samples_split=4, min_weight_fraction_leaf=0.0,\n",
       "             n_estimators=2200, n_iter_no_change=None, presort='auto',\n",
       "             random_state=7, subsample=1.0, tol=0.0001,\n",
       "             validation_fraction=0.1, verbose=0, warm_start=False)"
      ]
     },
     "execution_count": 20,
     "metadata": {},
     "output_type": "execute_result"
    }
   ],
   "source": [
    "gbr1 = GradientBoostingRegressor(max_depth = 6, max_features = 80, n_estimators = 2200, min_samples_split = 4,\n",
    "                                 learning_rate = 0.1, random_state = 7)\n",
    "gbr1.fit(X_train,y_train)"
   ]
  },
  {
   "cell_type": "code",
   "execution_count": 21,
   "metadata": {},
   "outputs": [
    {
     "name": "stdout",
     "output_type": "stream",
     "text": [
      "Gradient Boosting Test Set R-Squared = 0.7280281831863015\n"
     ]
    }
   ],
   "source": [
    "print(\"Gradient Boosting Test Set R-Squared =\", gbr1.score(X_test,y_test))"
   ]
  },
  {
   "cell_type": "code",
   "execution_count": 22,
   "metadata": {},
   "outputs": [
    {
     "name": "stdout",
     "output_type": "stream",
     "text": [
      "Gradient Boosting Test Set RMSE = 25124.231014946403\n"
     ]
    }
   ],
   "source": [
    "print(\"Gradient Boosting Test Set RMSE =\", \n",
    "      np.sqrt(mean_squared_error(y_test, gbr1.predict(X_test))))"
   ]
  },
  {
   "cell_type": "code",
   "execution_count": 12,
   "metadata": {},
   "outputs": [
    {
     "data": {
      "text/plain": [
       "RandomizedSearchCV(cv=5, error_score='raise-deprecating',\n",
       "          estimator=GradientBoostingRegressor(alpha=0.9, criterion='friedman_mse', init=None,\n",
       "             learning_rate=0.1, loss='ls', max_depth=3, max_features=None,\n",
       "             max_leaf_nodes=None, min_impurity_decrease=0.0,\n",
       "             min_impurity_split=None, min_samples_leaf=1,\n",
       "             min_sampl...ate=7, subsample=1.0, tol=0.0001,\n",
       "             validation_fraction=0.1, verbose=0, warm_start=False),\n",
       "          fit_params=None, iid='warn', n_iter=10, n_jobs=None,\n",
       "          param_distributions={'max_depth': <scipy.stats._distn_infrastructure.rv_frozen object at 0x1a13e79320>, 'max_features': <scipy.stats._distn_infrastructure.rv_frozen object at 0x1a13e79278>, 'min_samples_split': <scipy.stats._distn_infrastructure.rv_frozen object at 0x1a13e79128>, 'n_estimators': <scipy.stats._distn_infrastructure.rv_frozen object at 0x1a12097518>},\n",
       "          pre_dispatch='2*n_jobs', random_state=7, refit=True,\n",
       "          return_train_score='warn', scoring='neg_mean_squared_error',\n",
       "          verbose=0)"
      ]
     },
     "execution_count": 12,
     "metadata": {},
     "output_type": "execute_result"
    }
   ],
   "source": [
    "param_dist = {\"max_depth\": randint(6,16),\n",
    "              \"max_features\": randint(50, 100),\n",
    "              \"min_samples_split\": randint(2, 11),\n",
    "              'n_estimators': randint(500,2500)\n",
    "             }\n",
    "rcv_gbr = RandomizedSearchCV(estimator=gbr, param_distributions=param_dist, cv = 5, random_state = 7, \n",
    "                             scoring = 'neg_mean_squared_error' )\n",
    "rcv_gbr.fit(X_train,y_train)"
   ]
  },
  {
   "cell_type": "code",
   "execution_count": 16,
   "metadata": {},
   "outputs": [
    {
     "data": {
      "text/plain": [
       "{'max_depth': 6,\n",
       " 'max_features': 50,\n",
       " 'min_samples_split': 4,\n",
       " 'n_estimators': 812}"
      ]
     },
     "execution_count": 16,
     "metadata": {},
     "output_type": "execute_result"
    }
   ],
   "source": [
    "rcv_gbr.best_params_"
   ]
  },
  {
   "cell_type": "code",
   "execution_count": 17,
   "metadata": {},
   "outputs": [
    {
     "data": {
      "text/plain": [
       "GradientBoostingRegressor(alpha=0.9, criterion='friedman_mse', init=None,\n",
       "             learning_rate=0.1, loss='ls', max_depth=6, max_features=50,\n",
       "             max_leaf_nodes=None, min_impurity_decrease=0.0,\n",
       "             min_impurity_split=None, min_samples_leaf=1,\n",
       "             min_samples_split=4, min_weight_fraction_leaf=0.0,\n",
       "             n_estimators=812, n_iter_no_change=None, presort='auto',\n",
       "             random_state=7, subsample=1.0, tol=0.0001,\n",
       "             validation_fraction=0.1, verbose=0, warm_start=False)"
      ]
     },
     "execution_count": 17,
     "metadata": {},
     "output_type": "execute_result"
    }
   ],
   "source": [
    "gbr2 = GradientBoostingRegressor(max_depth = 6, max_features = 50, n_estimators = 812, \n",
    "                                 min_samples_split = 4, random_state = 7)\n",
    "gbr2.fit(X_train,y_train)"
   ]
  },
  {
   "cell_type": "code",
   "execution_count": 18,
   "metadata": {},
   "outputs": [
    {
     "name": "stdout",
     "output_type": "stream",
     "text": [
      "Gradient Boosting Regression Test Set R-Squared = 0.7203284235485394\n"
     ]
    }
   ],
   "source": [
    "print(\"Gradient Boosting Regression Test Set R-Squared =\", gbr2.score(X_test,y_test))"
   ]
  },
  {
   "cell_type": "code",
   "execution_count": 19,
   "metadata": {},
   "outputs": [
    {
     "name": "stdout",
     "output_type": "stream",
     "text": [
      "Gradient Boosting Regression Test Set RMSE = 25644.403705088545\n"
     ]
    }
   ],
   "source": [
    "print(\"Gradient Boosting Regression Test Set RMSE =\", \n",
    "      np.sqrt(mean_squared_error(y_test, gbr2.predict(X_test))))"
   ]
  },
  {
   "cell_type": "markdown",
   "metadata": {},
   "source": [
    "## XgBoost Model"
   ]
  },
  {
   "cell_type": "code",
   "execution_count": 23,
   "metadata": {},
   "outputs": [],
   "source": [
    "xgr = XGBRegressor(random_state = 7)"
   ]
  },
  {
   "cell_type": "code",
   "execution_count": 50,
   "metadata": {},
   "outputs": [
    {
     "name": "stderr",
     "output_type": "stream",
     "text": [
      "/Users/ishareef7/anaconda3/lib/python3.7/site-packages/xgboost/core.py:587: FutureWarning: Series.base is deprecated and will be removed in a future version\n",
      "  if getattr(data, 'base', None) is not None and \\\n"
     ]
    },
    {
     "data": {
      "text/plain": [
       "GridSearchCV(cv=5, error_score='raise-deprecating',\n",
       "       estimator=XGBRegressor(base_score=0.5, booster='gbtree', colsample_bylevel=1,\n",
       "       colsample_bytree=1, gamma=0, importance_type='gain',\n",
       "       learning_rate=0.1, max_delta_step=0, max_depth=3,\n",
       "       min_child_weight=1, missing=None, n_estimators=100, n_jobs=1,\n",
       "       nthread=None, objective='reg:linear', random_state=7, reg_alpha=0,\n",
       "       reg_lambda=1, scale_pos_weight=1, seed=None, silent=True,\n",
       "       subsample=1),\n",
       "       fit_params=None, iid='warn', n_jobs=5,\n",
       "       param_grid={'eval_metric': ['rmse'], 'eta': [0.07], 'max_depth': [4, 6, 8], 'subsample': [0.7], 'colsample_bytree': [0.7], 'n_estimators': [2200]},\n",
       "       pre_dispatch='2*n_jobs', refit=True, return_train_score='warn',\n",
       "       scoring=None, verbose=0)"
      ]
     },
     "execution_count": 50,
     "metadata": {},
     "output_type": "execute_result"
    }
   ],
   "source": [
    "parameters = {\n",
    "              'eval_metric':['rmse'],\n",
    "              'eta': [.07],\n",
    "              'max_depth': [4,6,8],\n",
    "              'subsample': [0.7],\n",
    "              'colsample_bytree': [0.7],\n",
    "              'n_estimators': [2200]}\n",
    "\n",
    "xgb_grid = GridSearchCV(xgr, parameters, cv = 5, n_jobs = 5)\n",
    "xgb_grid.fit(X_train,y_train)"
   ]
  },
  {
   "cell_type": "code",
   "execution_count": 51,
   "metadata": {},
   "outputs": [
    {
     "data": {
      "text/plain": [
       "{'colsample_bytree': 0.7,\n",
       " 'eta': 0.07,\n",
       " 'eval_metric': 'rmse',\n",
       " 'max_depth': 4,\n",
       " 'n_estimators': 2200,\n",
       " 'subsample': 0.7}"
      ]
     },
     "execution_count": 51,
     "metadata": {},
     "output_type": "execute_result"
    }
   ],
   "source": [
    "xgb_grid.best_params_"
   ]
  },
  {
   "cell_type": "code",
   "execution_count": 56,
   "metadata": {},
   "outputs": [
    {
     "name": "stderr",
     "output_type": "stream",
     "text": [
      "/Users/ishareef7/anaconda3/lib/python3.7/site-packages/xgboost/core.py:587: FutureWarning: Series.base is deprecated and will be removed in a future version\n",
      "  if getattr(data, 'base', None) is not None and \\\n"
     ]
    },
    {
     "data": {
      "text/plain": [
       "XGBRegressor(base_score=0.5, booster='gbtree', colsample_bylevel=1,\n",
       "       colsample_bytree=0.7, gamma=0, importance_type='gain',\n",
       "       learning_rate=0.07, max_delta_step=0, max_depth=4,\n",
       "       min_child_weight=1, missing=None, n_estimators=2200, n_jobs=1,\n",
       "       nthread=None, objective='reg:linear', random_state=7, reg_alpha=0,\n",
       "       reg_lambda=1, scale_pos_weight=1, seed=None, silent=True,\n",
       "       subsample=1)"
      ]
     },
     "execution_count": 56,
     "metadata": {},
     "output_type": "execute_result"
    }
   ],
   "source": [
    "xgr1 = XGBRegressor(n_estimators = 2200, max_depth = 4 ,eval_metric = 'rmse',\n",
    "                   learning_rate=  0.07, colsample_bytree = 0.7, random_state = 7)\n",
    "xgr1.fit(X_train,y_train)"
   ]
  },
  {
   "cell_type": "code",
   "execution_count": 57,
   "metadata": {},
   "outputs": [
    {
     "name": "stdout",
     "output_type": "stream",
     "text": [
      "XGBoosting Regression Test Set R-Squared = 0.7487812230504696\n"
     ]
    }
   ],
   "source": [
    "print(\"XGBoosting Regression Test Set R-Squared =\", xgr1.score(X_test,y_test))"
   ]
  },
  {
   "cell_type": "code",
   "execution_count": 58,
   "metadata": {},
   "outputs": [
    {
     "name": "stdout",
     "output_type": "stream",
     "text": [
      "XGBoosting Regression Test Set RMSE = 21710.906516194387\n"
     ]
    }
   ],
   "source": [
    "print(\"XGBoosting Regression Test Set RMSE =\", \n",
    "      np.sqrt(mean_squared_error(y_test, xgr1.predict(X_test))))"
   ]
  },
  {
   "cell_type": "code",
   "execution_count": 59,
   "metadata": {},
   "outputs": [
    {
     "name": "stdout",
     "output_type": "stream",
     "text": [
      "XGBoosting Regression Test Set MAE  = 11325.434093749995\n"
     ]
    }
   ],
   "source": [
    "print(\"XGBoosting Regression Test Set MAE  =\", \n",
    "      median_absolute_error(y_test, xgr1.predict(X_test)))"
   ]
  },
  {
   "cell_type": "code",
   "execution_count": null,
   "metadata": {},
   "outputs": [],
   "source": []
  }
 ],
 "metadata": {
  "kernelspec": {
   "display_name": "Python 3",
   "language": "python",
   "name": "python3"
  },
  "language_info": {
   "codemirror_mode": {
    "name": "ipython",
    "version": 3
   },
   "file_extension": ".py",
   "mimetype": "text/x-python",
   "name": "python",
   "nbconvert_exporter": "python",
   "pygments_lexer": "ipython3",
   "version": "3.7.1"
  }
 },
 "nbformat": 4,
 "nbformat_minor": 2
}
