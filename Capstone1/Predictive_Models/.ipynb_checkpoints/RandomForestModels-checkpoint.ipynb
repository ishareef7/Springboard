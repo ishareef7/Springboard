{
 "cells": [
  {
   "cell_type": "code",
   "execution_count": 2,
   "metadata": {},
   "outputs": [],
   "source": [
    "import pandas as pd\n",
    "import numpy as np\n",
    "import pickle\n",
    "import matplotlib.pyplot as plt\n",
    "from sklearn.ensemble import RandomForestRegressor\n",
    "from sklearn.model_selection import train_test_split ,GridSearchCV, RandomizedSearchCV\n",
    "from sklearn.metrics import r2_score , mean_squared_error, make_scorer\n",
    "from scipy.stats import randint\n",
    "%load_ext watermark"
   ]
  },
  {
   "cell_type": "code",
   "execution_count": 3,
   "metadata": {},
   "outputs": [
    {
     "name": "stdout",
     "output_type": "stream",
     "text": [
      "Random Forest Models 2019-07-06 11:06:47 \n",
      "\n",
      "CPython 3.7.1\n",
      "IPython 7.2.0\n",
      "\n",
      "numpy 1.16.4\n",
      "pandas 0.23.4\n",
      "sklearn 0.20.1\n",
      "scipy 1.1.0\n",
      "Git hash: 948b5557e1f3c2ee8a78c09e952e7215486d8527\n"
     ]
    }
   ],
   "source": [
    "%watermark -a \"Random Forest Models\" -d -t -v -p numpy,pandas,sklearn,scipy -g"
   ]
  },
  {
   "cell_type": "code",
   "execution_count": 2,
   "metadata": {},
   "outputs": [],
   "source": [
    "with open('Preprocessing/Datasets/recs_processed_otliers.pickle','rb') as handle:\n",
    "    recs_processed_otliers = pickle.load(handle)"
   ]
  },
  {
   "cell_type": "code",
   "execution_count": 3,
   "metadata": {},
   "outputs": [],
   "source": [
    "X = recs_processed_otliers.iloc[:,:-2]\n",
    "y = recs_processed_otliers['TOTALBTU']\n",
    "X_train, X_test, y_train, y_test = train_test_split(X, y, test_size = .2, random_state = 7)"
   ]
  },
  {
   "cell_type": "markdown",
   "metadata": {},
   "source": [
    "## Random Forest Model"
   ]
  },
  {
   "cell_type": "code",
   "execution_count": 4,
   "metadata": {},
   "outputs": [],
   "source": [
    "rfr  = RandomForestRegressor(random_state = 7)"
   ]
  },
  {
   "cell_type": "code",
   "execution_count": 5,
   "metadata": {},
   "outputs": [],
   "source": [
    "param_grid = {'n_estimators': [1900,2100,2300],\n",
    "              'max_features': ['sqrt'],\n",
    "              'max_depth' : [18,20,22]\n",
    "             }"
   ]
  },
  {
   "cell_type": "code",
   "execution_count": 6,
   "metadata": {},
   "outputs": [],
   "source": [
    "cv_rfr1 = GridSearchCV(estimator = rfr, param_grid = param_grid, cv = 5, n_jobs = 3, \n",
    "                       scoring = 'neg_mean_squared_error')\n",
    "_ = cv_rfr1.fit(X_train,y_train)"
   ]
  },
  {
   "cell_type": "code",
   "execution_count": 7,
   "metadata": {},
   "outputs": [
    {
     "data": {
      "text/plain": [
       "{'max_depth': 22, 'max_features': 'sqrt', 'n_estimators': 2300}"
      ]
     },
     "execution_count": 7,
     "metadata": {},
     "output_type": "execute_result"
    }
   ],
   "source": [
    "cv_rfr1.best_params_"
   ]
  },
  {
   "cell_type": "code",
   "execution_count": 8,
   "metadata": {},
   "outputs": [],
   "source": [
    "rfr1 = RandomForestRegressor(max_depth = 20, max_features = 'sqrt', n_estimators = 2100, random_state = 7)\n",
    "_ = rfr1.fit(X_train,y_train)"
   ]
  },
  {
   "cell_type": "code",
   "execution_count": 9,
   "metadata": {},
   "outputs": [
    {
     "name": "stdout",
     "output_type": "stream",
     "text": [
      "Random Forest Regression Test Set R-Squared = 0.6791019179869215\n"
     ]
    }
   ],
   "source": [
    "print(\"Random Forest Regression Test Set R-Squared =\", rfr1.score(X_test,y_test))"
   ]
  },
  {
   "cell_type": "code",
   "execution_count": 10,
   "metadata": {},
   "outputs": [
    {
     "name": "stdout",
     "output_type": "stream",
     "text": [
      "Elastic Regression Test Set RMSE = 24537.79136764059\n"
     ]
    }
   ],
   "source": [
    "print(\"Random Forest Regression Test Set RMSE =\", \n",
    "      np.sqrt(mean_squared_error(y_test, rfr1.predict(X_test))))"
   ]
  },
  {
   "cell_type": "code",
   "execution_count": 11,
   "metadata": {},
   "outputs": [],
   "source": [
    "param_dist = {'n_estimators': randint(500,2500),\n",
    "              'max_features': ['sqrt'],\n",
    "              'max_depth' : randint(10,20)\n",
    "             }\n",
    "             \n",
    "rcv_rfr = RandomizedSearchCV(estimator=rfr, param_distributions=param_dist, cv = 5, random_state = 7, \n",
    "                             scoring = 'neg_mean_squared_error' )\n",
    "_ = rcv_rfr.fit(X_train,y_train)"
   ]
  },
  {
   "cell_type": "code",
   "execution_count": 12,
   "metadata": {},
   "outputs": [
    {
     "data": {
      "text/plain": [
       "{'max_depth': 19, 'max_features': 'sqrt', 'n_estimators': 1922}"
      ]
     },
     "execution_count": 12,
     "metadata": {},
     "output_type": "execute_result"
    }
   ],
   "source": [
    "rcv_rfr.best_params_"
   ]
  },
  {
   "cell_type": "code",
   "execution_count": 13,
   "metadata": {},
   "outputs": [],
   "source": [
    "rfr2 = RandomForestRegressor(max_depth = 18, max_features = 'sqrt', n_estimators = 1691, random_state = 7)\n",
    "_ = rfr2.fit(X_train,y_train)"
   ]
  },
  {
   "cell_type": "code",
   "execution_count": 14,
   "metadata": {},
   "outputs": [
    {
     "name": "stdout",
     "output_type": "stream",
     "text": [
      "Random Forest Regression Test Set R-Squared = 0.678716146384943\n"
     ]
    }
   ],
   "source": [
    "print(\"Random Forest Regression Test Set R-Squared =\", rfr2.score(X_test,y_test))"
   ]
  },
  {
   "cell_type": "code",
   "execution_count": 15,
   "metadata": {},
   "outputs": [
    {
     "name": "stdout",
     "output_type": "stream",
     "text": [
      "Elastic Regression Test Set RMSE = 24552.53614240225\n"
     ]
    }
   ],
   "source": [
    "print(\"Random Forest Regression Test Set RMSE =\", \n",
    "      np.sqrt(mean_squared_error(y_test, rfr2.predict(X_test))))"
   ]
  },
  {
   "cell_type": "code",
   "execution_count": null,
   "metadata": {},
   "outputs": [],
   "source": []
  }
 ],
 "metadata": {
  "kernelspec": {
   "display_name": "Python 3",
   "language": "python",
   "name": "python3"
  },
  "language_info": {
   "codemirror_mode": {
    "name": "ipython",
    "version": 3
   },
   "file_extension": ".py",
   "mimetype": "text/x-python",
   "name": "python",
   "nbconvert_exporter": "python",
   "pygments_lexer": "ipython3",
   "version": "3.7.1"
  }
 },
 "nbformat": 4,
 "nbformat_minor": 2
}
