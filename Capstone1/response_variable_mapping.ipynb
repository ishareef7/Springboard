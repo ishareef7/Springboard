{
 "cells": [
  {
   "cell_type": "code",
   "execution_count": 44,
   "metadata": {},
   "outputs": [],
   "source": [
    "import pandas as pd\n",
    "import numpy as np\n",
    "from collections import defaultdict\n",
    "import pickle"
   ]
  },
  {
   "cell_type": "code",
   "execution_count": 45,
   "metadata": {},
   "outputs": [],
   "source": [
    "codebook_xl = pd.ExcelFile('Datasets/codebook_publicv4.xlsx')\n",
    "codebook_df = codebook_xl.parse('Sheet1', header=3, usecols=[0,1,3,4,5], \n",
    "                                nrows =758, index_col = 0, skiprows =[1])\n",
    "codebook_df.columns = ['type','variable_description','response_values', 'response_labels']"
   ]
  },
  {
   "cell_type": "code",
   "execution_count": 46,
   "metadata": {},
   "outputs": [],
   "source": [
    "variables = codebook_df.index.values\n",
    "descriptions = codebook_df.variable_description.values\n",
    "var_map = {var:None for var in variables}\n",
    "var_descriptions = dict(zip(variables,descriptions))"
   ]
  },
  {
   "cell_type": "code",
   "execution_count": 47,
   "metadata": {},
   "outputs": [],
   "source": [
    "labels = codebook_df.response_labels\n",
    "label_strings = [l.replace('\\n','; ') if type(l) is str else l for l in labels ]\n",
    "var_labels = dict(zip(labels.index,label_strings))"
   ]
  },
  {
   "cell_type": "code",
   "execution_count": 48,
   "metadata": {},
   "outputs": [],
   "source": [
    "#Create mask for response_values that are strings in the dataframe\n",
    "is_string = codebook_df['response_values'].apply(isinstance,args=(str,))\n",
    "\n",
    "#response_values that are strings in the dataframe\n",
    "response_values = codebook_df[is_string]['response_values']\n",
    "\n",
    "#Corresponding label_set for the response_values \n",
    "label_sets = codebook_df[is_string]['response_labels']\n",
    "\n",
    "#Variables with string response_values in the dataframe\n",
    "str_response_vars = codebook_df[is_string]['response_labels'].index"
   ]
  },
  {
   "cell_type": "code",
   "execution_count": 49,
   "metadata": {},
   "outputs": [],
   "source": [
    "#Split response_values strings into a list of values and create list of value sets for each row\n",
    "val_list = [entry.split('\\n') for entry in response_values.values]\n",
    "\n",
    "#Split response_labels strings into a list labels and create list of label sets for each row\n",
    "lab_list = [entry.split('\\n') for entry in label_sets.values]\n",
    "\n",
    "#Create a list of dictionaries with response variables as keys and the corressponding labels as values\n",
    "label_map = [dict(zip(vals,labels)) for vals,labels in zip(val_list,lab_list)]\n",
    "\n",
    "#Assign the dictionary of response values and labels to the correspnign variable\n",
    "for var,lab in zip(str_response_vars,label_map):\n",
    "    var_map[var] = lab"
   ]
  },
  {
   "cell_type": "code",
   "execution_count": 50,
   "metadata": {},
   "outputs": [],
   "source": [
    "#Create mask for null response_values\n",
    "null_values = codebook_df['response_values'].isnull()\n",
    "\n",
    "#Create mask for null response_labels\n",
    "null_labels = codebook_df['response_labels'].isnull()\n",
    "\n",
    "#Create mask for null numeric variables\n",
    "is_numeric = codebook_df['type'] =='Numeric'\n",
    "\n",
    "#Create mask for null character variables\n",
    "is_character = codebook_df['type'] =='Character'"
   ]
  },
  {
   "cell_type": "code",
   "execution_count": 51,
   "metadata": {},
   "outputs": [],
   "source": [
    "numeric_labels = codebook_df[is_numeric & np.invert(null_labels) & null_values].response_labels\n",
    "non_null_labels = codebook_df[is_numeric & np.invert(null_labels) & null_values].index\n",
    "\n",
    "for var,label in zip(non_null_labels,numeric_labels):\n",
    "    var_map[var] = {'Numeric':label}"
   ]
  },
  {
   "cell_type": "code",
   "execution_count": 52,
   "metadata": {},
   "outputs": [],
   "source": [
    "null_character = codebook_df.loc[is_character & null_values].index\n",
    "label_str = codebook_df.loc[is_character & null_values]['response_labels'].values\n",
    "label_list = label_str[0].split('\\n')\n",
    "var_map[null_character.values[0]] = dict(zip(label_list,label_list))"
   ]
  },
  {
   "cell_type": "code",
   "execution_count": 53,
   "metadata": {},
   "outputs": [],
   "source": [
    "with open('variable_map.pickle', 'wb') as handle:\n",
    "    pickle.dump(var_map, handle)"
   ]
  },
  {
   "cell_type": "code",
   "execution_count": 54,
   "metadata": {},
   "outputs": [],
   "source": [
    "with open('variable_descriptions.pickle', 'wb') as handle:\n",
    "    pickle.dump(var_descriptions, handle)"
   ]
  },
  {
   "cell_type": "code",
   "execution_count": 55,
   "metadata": {},
   "outputs": [],
   "source": [
    "with open('variable_labels.pickle', 'wb') as handle:\n",
    "    pickle.dump(var_labels, handle)"
   ]
  }
 ],
 "metadata": {
  "kernelspec": {
   "display_name": "Python 3",
   "language": "python",
   "name": "python3"
  },
  "language_info": {
   "codemirror_mode": {
    "name": "ipython",
    "version": 3
   },
   "file_extension": ".py",
   "mimetype": "text/x-python",
   "name": "python",
   "nbconvert_exporter": "python",
   "pygments_lexer": "ipython3",
   "version": "3.7.1"
  }
 },
 "nbformat": 4,
 "nbformat_minor": 2
}
