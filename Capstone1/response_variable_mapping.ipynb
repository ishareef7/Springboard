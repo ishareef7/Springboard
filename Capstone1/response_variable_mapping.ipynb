{
 "cells": [
  {
   "cell_type": "code",
   "execution_count": 1,
   "metadata": {},
   "outputs": [],
   "source": [
    "import pandas as pd\n",
    "import numpy as np\n",
    "from collections import defaultdict\n",
    "import pickle"
   ]
  },
  {
   "cell_type": "code",
   "execution_count": 51,
   "metadata": {},
   "outputs": [],
   "source": [
    "codebook_xl = pd.ExcelFile('Datasets/codebook_publicv4.xlsx')\n",
    "codebook_df = codebook_xl.parse('Sheet1', header=3, usecols=[0,1,3,4,5,6,7,8,9],\n",
    "                                nrows =758, index_col = 0, skiprows =[1])\n",
    "codebook_df.columns = ['type','variable_description','feature','include', 'output_input','data_type',\n",
    "                       'response_values', 'response_labels']\n",
    "codebook_df.include = codebook_df.include.replace('X',True).fillna(False)\n",
    "codebook_df.feature = codebook_df.feature.replace('X',True).fillna(False)\n",
    "codebook_df.index.names = ['Variables']"
   ]
  },
  {
   "cell_type": "code",
   "execution_count": 35,
   "metadata": {},
   "outputs": [],
   "source": [
    "variables = codebook_df.index.values\n",
    "descriptions = codebook_df.variable_description.values\n",
    "var_map = {var:None for var in variables}\n",
    "var_descriptions = dict(zip(variables,descriptions))"
   ]
  },
  {
   "cell_type": "code",
   "execution_count": 36,
   "metadata": {},
   "outputs": [],
   "source": [
    "labels = codebook_df.response_labels\n",
    "label_strings = [l.replace('\\n','; ') if type(l) is str else l for l in labels ]\n",
    "var_labels = dict(zip(labels.index,label_strings))"
   ]
  },
  {
   "cell_type": "code",
   "execution_count": 37,
   "metadata": {},
   "outputs": [],
   "source": [
    "#Create mask for response_values that are strings in the dataframe\n",
    "is_string = codebook_df['response_values'].apply(isinstance,args=(str,))\n",
    "\n",
    "#response_values that are strings in the dataframe\n",
    "response_values = codebook_df[is_string]['response_values']\n",
    "\n",
    "#Corresponding label_set for the response_values \n",
    "label_sets = codebook_df[is_string]['response_labels']\n",
    "\n",
    "#Variables with string response_values in the dataframe\n",
    "str_response_vars = codebook_df[is_string]['response_labels'].index"
   ]
  },
  {
   "cell_type": "code",
   "execution_count": 38,
   "metadata": {},
   "outputs": [],
   "source": [
    "#Split response_values strings into a list of values and create list of value sets for each row\n",
    "val_list = [entry.split('\\n') for entry in response_values.values]\n",
    "\n",
    "#Split response_labels strings into a list labels and create list of label sets for each row\n",
    "lab_list = [entry.split('\\n') for entry in label_sets.values]\n",
    "\n",
    "#Create a list of dictionaries with response variables as keys and the corressponding labels as values\n",
    "label_map = [dict(zip(vals,labels)) for vals,labels in zip(val_list,lab_list)]\n",
    "\n",
    "#Assign the dictionary of response values and labels to the correspnign variable\n",
    "for var,lab in zip(str_response_vars,label_map):\n",
    "    var_map[var] = lab"
   ]
  },
  {
   "cell_type": "code",
   "execution_count": 39,
   "metadata": {},
   "outputs": [],
   "source": [
    "#Create mask for null response_values\n",
    "null_values = codebook_df['response_values'].isnull()\n",
    "\n",
    "#Create mask for null response_labels\n",
    "null_labels = codebook_df['response_labels'].isnull()\n",
    "\n",
    "#Create mask for null numeric variables\n",
    "is_numeric = codebook_df['type'] =='Numeric'\n",
    "\n",
    "#Create mask for null character variables\n",
    "is_character = codebook_df['type'] =='Character'"
   ]
  },
  {
   "cell_type": "code",
   "execution_count": 40,
   "metadata": {},
   "outputs": [],
   "source": [
    "numeric_labels = codebook_df[is_numeric & np.invert(null_labels) & null_values].response_labels\n",
    "non_null_labels = codebook_df[is_numeric & np.invert(null_labels) & null_values].index\n",
    "\n",
    "for var,label in zip(non_null_labels,numeric_labels):\n",
    "    var_map[var] = {'Numeric':label}"
   ]
  },
  {
   "cell_type": "code",
   "execution_count": 41,
   "metadata": {},
   "outputs": [],
   "source": [
    "null_character = codebook_df.loc[is_character & null_values].index\n",
    "label_str = codebook_df.loc[is_character & null_values]['response_labels'].values\n",
    "label_list = label_str[0].split('\\n')\n",
    "var_map[null_character.values[0]] = dict(zip(label_list,label_list))"
   ]
  },
  {
   "cell_type": "code",
   "execution_count": 42,
   "metadata": {},
   "outputs": [
    {
     "data": {
      "text/plain": [
       "Index(['METROMICRO', 'UATYP10', 'CLIMATE_REGION_PUB', 'IECC_CLIMATE_PUB'], dtype='object', name='Variables')"
      ]
     },
     "execution_count": 42,
     "metadata": {},
     "output_type": "execute_result"
    }
   ],
   "source": [
    "string_responses = codebook_df[codebook_df['type'] =='Character'].response_values\n",
    "string_responses.index"
   ]
  },
  {
   "cell_type": "code",
   "execution_count": 43,
   "metadata": {},
   "outputs": [
    {
     "data": {
      "text/plain": [
       "{'1A-2A': 'IECC climate zones 1A-2A',\n",
       " '2B': 'IECC climate zone 2B',\n",
       " '3A': 'IECC climate zone 3A',\n",
       " '3B-4B': 'IECC climate zones 3B-4B',\n",
       " '3C': 'IECC climate zone 3C',\n",
       " '4A': 'IECC climate zone 4A',\n",
       " '4C': 'IECC climate zone 4C',\n",
       " '5A': 'IECC climate zone 5A',\n",
       " '5B-5C': 'IECC climate zones 5B-5C',\n",
       " '6A-6B': 'IECC climate zones 6A-6B',\n",
       " '7A-7B-7AK-8AK': 'IECC climate zones 7A-7B-7AK-8AK'}"
      ]
     },
     "execution_count": 43,
     "metadata": {},
     "output_type": "execute_result"
    }
   ],
   "source": [
    "var_map['IECC_CLIMATE_PUB']"
   ]
  },
  {
   "cell_type": "code",
   "execution_count": 44,
   "metadata": {},
   "outputs": [],
   "source": [
    "var_map['METROMICRO'] = {1: 'Housing unit in Census Metropolitan Statistical Area',\n",
    "                         2: 'Housing unit in Census Micropolitan Statistical Area',\n",
    "                         3: 'Housing unit in neither'}\n",
    "var_map['UATYP10'] = {1: 'Urban Area', 3: 'Urban Cluster', 3: 'Rural'}\n",
    "var_map['CLIMATE_REGION_PUB'] = {1: 'Cold/Very Cold', 2: 'Hot-Dry/Mixed-Dry', 3: 'Hot-Humid', 4: 'Mixed-Humid',\n",
    "                                 5: 'Marine'}\n",
    "var_map['IECC_CLIMATE_PUB'] = {1: 'IECC climate zones 1A-2A', 2: 'IECC climate zone 2B',\n",
    "                               3: 'IECC climate zone 3A', 4: 'IECC climate zones 3B-4B',\n",
    "                               5: 'IECC climate zone 3C', 6: 'IECC climate zone 4A',\n",
    "                               7: 'IECC climate zone 4C', 8: 'IECC climate zone 5A',\n",
    "                               9: 'IECC climate zones 5B-5C', 10: 'IECC climate zones 6A-6B',\n",
    "                               11: 'IECC climate zones 7A-7B-7AK-8AK'}\n"
   ]
  },
  {
   "cell_type": "code",
   "execution_count": 52,
   "metadata": {},
   "outputs": [],
   "source": [
    "data_info = codebook_df[['feature','include','data_type']]\n",
    "data_info.to_pickle('Datasets/data_info.pickle')"
   ]
  },
  {
   "cell_type": "code",
   "execution_count": 46,
   "metadata": {},
   "outputs": [],
   "source": [
    "with open('Datasets/variable_map.pickle', 'wb') as handle:\n",
    "    pickle.dump(var_map, handle)"
   ]
  },
  {
   "cell_type": "code",
   "execution_count": 47,
   "metadata": {},
   "outputs": [],
   "source": [
    "with open('Datasets/variable_descriptions.pickle', 'wb') as handle:\n",
    "    pickle.dump(var_descriptions, handle)"
   ]
  },
  {
   "cell_type": "code",
   "execution_count": 48,
   "metadata": {},
   "outputs": [],
   "source": [
    "with open('Datasets/variable_labels.pickle', 'wb') as handle:\n",
    "    pickle.dump(var_labels, handle)"
   ]
  },
  {
   "cell_type": "code",
   "execution_count": null,
   "metadata": {},
   "outputs": [],
   "source": []
  }
 ],
 "metadata": {
  "kernelspec": {
   "display_name": "Python 3",
   "language": "python",
   "name": "python3"
  },
  "language_info": {
   "codemirror_mode": {
    "name": "ipython",
    "version": 3
   },
   "file_extension": ".py",
   "mimetype": "text/x-python",
   "name": "python",
   "nbconvert_exporter": "python",
   "pygments_lexer": "ipython3",
   "version": "3.7.1"
  }
 },
 "nbformat": 4,
 "nbformat_minor": 2
}
