{
 "cells": [
  {
   "cell_type": "code",
   "execution_count": 1,
   "metadata": {},
   "outputs": [
    {
     "name": "stderr",
     "output_type": "stream",
     "text": [
      "Using TensorFlow backend.\n"
     ]
    }
   ],
   "source": [
    "import sys\n",
    "import numpy as np\n",
    "import pandas as pd\n",
    "\n",
    "from numpy.random import seed\n",
    "seed(1)\n",
    "from tensorflow import set_random_seed\n",
    "set_random_seed(2)\n",
    "\n",
    "from keras.models import Sequential , Model \n",
    "from keras import layers"
   ]
  },
  {
   "cell_type": "code",
   "execution_count": 2,
   "metadata": {},
   "outputs": [],
   "source": [
    "mod_path = '/Users/ishareef7/Springboard/Capstone2'\n",
    "sys.path.append(mod_path)\n",
    "from src.features import build_dataset"
   ]
  },
  {
   "cell_type": "code",
   "execution_count": 3,
   "metadata": {},
   "outputs": [],
   "source": [
    "dataset = build_dataset.get_dataset_echonest()\n",
    "X_train, X_test, y_train, y_test = build_dataset.process_dataset(dataset)"
   ]
  },
  {
   "cell_type": "code",
   "execution_count": 4,
   "metadata": {},
   "outputs": [
    {
     "name": "stderr",
     "output_type": "stream",
     "text": [
      "WARNING: Logging before flag parsing goes to stderr.\n",
      "W0731 00:17:56.071584 4542936512 deprecation_wrapper.py:119] From /Users/ishareef7/anaconda3/envs/Capstone2/lib/python3.7/site-packages/keras/backend/tensorflow_backend.py:74: The name tf.get_default_graph is deprecated. Please use tf.compat.v1.get_default_graph instead.\n",
      "\n",
      "W0731 00:17:56.097239 4542936512 deprecation_wrapper.py:119] From /Users/ishareef7/anaconda3/envs/Capstone2/lib/python3.7/site-packages/keras/backend/tensorflow_backend.py:517: The name tf.placeholder is deprecated. Please use tf.compat.v1.placeholder instead.\n",
      "\n",
      "W0731 00:17:56.164459 4542936512 deprecation_wrapper.py:119] From /Users/ishareef7/anaconda3/envs/Capstone2/lib/python3.7/site-packages/keras/backend/tensorflow_backend.py:4138: The name tf.random_uniform is deprecated. Please use tf.random.uniform instead.\n",
      "\n",
      "W0731 00:17:56.264598 4542936512 deprecation_wrapper.py:119] From /Users/ishareef7/anaconda3/envs/Capstone2/lib/python3.7/site-packages/keras/optimizers.py:790: The name tf.train.Optimizer is deprecated. Please use tf.compat.v1.train.Optimizer instead.\n",
      "\n",
      "W0731 00:17:56.296967 4542936512 deprecation_wrapper.py:119] From /Users/ishareef7/anaconda3/envs/Capstone2/lib/python3.7/site-packages/keras/backend/tensorflow_backend.py:3341: The name tf.log is deprecated. Please use tf.math.log instead.\n",
      "\n",
      "W0731 00:17:56.432914 4542936512 deprecation.py:323] From /Users/ishareef7/anaconda3/envs/Capstone2/lib/python3.7/site-packages/tensorflow/python/ops/math_grad.py:1250: add_dispatch_support.<locals>.wrapper (from tensorflow.python.ops.array_ops) is deprecated and will be removed in a future version.\n",
      "Instructions for updating:\n",
      "Use tf.where in 2.0, which has the same broadcast rule as np.where\n",
      "W0731 00:17:56.470026 4542936512 deprecation_wrapper.py:119] From /Users/ishareef7/anaconda3/envs/Capstone2/lib/python3.7/site-packages/keras/backend/tensorflow_backend.py:986: The name tf.assign_add is deprecated. Please use tf.compat.v1.assign_add instead.\n",
      "\n"
     ]
    },
    {
     "name": "stdout",
     "output_type": "stream",
     "text": [
      "Epoch 1/20\n",
      "11836/11836 [==============================] - 2s 202us/step - loss: 1.2361 - acc: 0.6043\n",
      "Epoch 2/20\n",
      "11836/11836 [==============================] - 1s 119us/step - loss: 0.8479 - acc: 0.7198\n",
      "Epoch 3/20\n",
      "11836/11836 [==============================] - 2s 132us/step - loss: 0.6535 - acc: 0.7804\n",
      "Epoch 4/20\n",
      "11836/11836 [==============================] - 1s 122us/step - loss: 0.4849 - acc: 0.8397\n",
      "Epoch 5/20\n",
      "11836/11836 [==============================] - 1s 113us/step - loss: 0.3375 - acc: 0.8888\n",
      "Epoch 6/20\n",
      "11836/11836 [==============================] - 1s 122us/step - loss: 0.2371 - acc: 0.9222\n",
      "Epoch 7/20\n",
      "11836/11836 [==============================] - 1s 118us/step - loss: 0.1360 - acc: 0.9589\n",
      "Epoch 8/20\n",
      "11836/11836 [==============================] - 1s 123us/step - loss: 0.0893 - acc: 0.9735\n",
      "Epoch 9/20\n",
      "11836/11836 [==============================] - 2s 134us/step - loss: 0.0852 - acc: 0.9736\n",
      "Epoch 10/20\n",
      "11836/11836 [==============================] - 2s 128us/step - loss: 0.0947 - acc: 0.9736\n",
      "Epoch 11/20\n",
      "11836/11836 [==============================] - 2s 142us/step - loss: 0.0630 - acc: 0.9793\n",
      "Epoch 12/20\n",
      "11836/11836 [==============================] - 2s 140us/step - loss: 0.0390 - acc: 0.9890\n",
      "Epoch 13/20\n",
      "11836/11836 [==============================] - 1s 125us/step - loss: 0.0214 - acc: 0.9955\n",
      "Epoch 14/20\n",
      "11836/11836 [==============================] - 1s 118us/step - loss: 0.0320 - acc: 0.9909\n",
      "Epoch 15/20\n",
      "11836/11836 [==============================] - 1s 122us/step - loss: 0.1314 - acc: 0.9557\n",
      "Epoch 16/20\n",
      "11836/11836 [==============================] - 1s 126us/step - loss: 0.1107 - acc: 0.9641\n",
      "Epoch 17/20\n",
      "11836/11836 [==============================] - 1s 120us/step - loss: 0.0545 - acc: 0.9831\n",
      "Epoch 18/20\n",
      "11836/11836 [==============================] - 2s 127us/step - loss: 0.0470 - acc: 0.9856\n",
      "Epoch 19/20\n",
      "11836/11836 [==============================] - 2s 163us/step - loss: 0.0270 - acc: 0.9916\n",
      "Epoch 20/20\n",
      "11836/11836 [==============================] - 2s 165us/step - loss: 0.0140 - acc: 0.9963\n"
     ]
    }
   ],
   "source": [
    "model_0 = Sequential()\n",
    "model_0.add(layers.Dense(400, activation='relu', input_shape=(X_train.shape[1],)))\n",
    "\n",
    "model_0.add(layers.Dense(250, activation='relu'))\n",
    "\n",
    "model_0.add(layers.Dense(150, activation='relu'))\n",
    "\n",
    "model_0.add(layers.Dense(12, activation='softmax'))\n",
    "\n",
    "model_0.compile(optimizer='adam',\n",
    "              loss='sparse_categorical_crossentropy',\n",
    "              metrics=['accuracy'])\n",
    "history = model_0.fit(X_train, y_train, epochs=20, batch_size=128)"
   ]
  },
  {
   "cell_type": "code",
   "execution_count": 5,
   "metadata": {},
   "outputs": [
    {
     "name": "stdout",
     "output_type": "stream",
     "text": [
      "1293/1293 [==============================] - 0s 160us/step\n",
      "Test set Accuracy:  0.53982985307796\n"
     ]
    }
   ],
   "source": [
    "test_loss, test_acc = model_0.evaluate(X_test,y_test)\n",
    "print('Test set Accuracy: ',test_acc)"
   ]
  },
  {
   "cell_type": "code",
   "execution_count": 56,
   "metadata": {},
   "outputs": [
    {
     "name": "stdout",
     "output_type": "stream",
     "text": [
      "Epoch 1/20\n",
      "10503/10503 [==============================] - 3s 333us/step - loss: 1.2712 - acc: 0.5906\n",
      "Epoch 2/20\n",
      "10503/10503 [==============================] - 1s 122us/step - loss: 0.8901 - acc: 0.7048\n",
      "Epoch 3/20\n",
      "10503/10503 [==============================] - 1s 115us/step - loss: 0.6972 - acc: 0.7611\n",
      "Epoch 4/20\n",
      "10503/10503 [==============================] - 1s 142us/step - loss: 0.5415 - acc: 0.8181\n",
      "Epoch 5/20\n",
      "10503/10503 [==============================] - 2s 150us/step - loss: 0.3729 - acc: 0.8775\n",
      "Epoch 6/20\n",
      "10503/10503 [==============================] - 1s 131us/step - loss: 0.2899 - acc: 0.9016\n",
      "Epoch 7/20\n",
      "10503/10503 [==============================] - 1s 119us/step - loss: 0.1881 - acc: 0.9394\n",
      "Epoch 8/20\n",
      "10503/10503 [==============================] - 1s 116us/step - loss: 0.1180 - acc: 0.9654\n",
      "Epoch 9/20\n",
      "10503/10503 [==============================] - 1s 117us/step - loss: 0.0671 - acc: 0.9825\n",
      "Epoch 10/20\n",
      "10503/10503 [==============================] - 2s 166us/step - loss: 0.0421 - acc: 0.9905\n",
      "Epoch 11/20\n",
      "10503/10503 [==============================] - 1s 116us/step - loss: 0.0704 - acc: 0.9798\n",
      "Epoch 12/20\n",
      "10503/10503 [==============================] - 1s 114us/step - loss: 0.1074 - acc: 0.9660\n",
      "Epoch 13/20\n",
      "10503/10503 [==============================] - 1s 122us/step - loss: 0.1187 - acc: 0.9611\n",
      "Epoch 14/20\n",
      "10503/10503 [==============================] - 1s 140us/step - loss: 0.1668 - acc: 0.9458\n",
      "Epoch 15/20\n",
      "10503/10503 [==============================] - 1s 113us/step - loss: 0.1094 - acc: 0.9651\n",
      "Epoch 16/20\n",
      "10503/10503 [==============================] - 1s 110us/step - loss: 0.0260 - acc: 0.9948\n",
      "Epoch 17/20\n",
      "10503/10503 [==============================] - 1s 111us/step - loss: 0.0095 - acc: 0.9987\n",
      "Epoch 18/20\n",
      "10503/10503 [==============================] - 1s 110us/step - loss: 0.0046 - acc: 0.9993\n",
      "Epoch 19/20\n",
      "10503/10503 [==============================] - 1s 111us/step - loss: 0.0026 - acc: 0.9999\n",
      "Epoch 20/20\n",
      "10503/10503 [==============================] - 1s 110us/step - loss: 8.0542e-04 - acc: 1.0000\n"
     ]
    }
   ],
   "source": []
  },
  {
   "cell_type": "code",
   "execution_count": 42,
   "metadata": {},
   "outputs": [
    {
     "name": "stdout",
     "output_type": "stream",
     "text": [
      "2626/2626 [==============================] - 0s 130us/step\n"
     ]
    }
   ],
   "source": [
    "test_loss, test_acc = model_0.evaluate(X_test,y_test)"
   ]
  },
  {
   "cell_type": "code",
   "execution_count": 43,
   "metadata": {},
   "outputs": [
    {
     "name": "stdout",
     "output_type": "stream",
     "text": [
      "Test set Accuracy:  0.7003046458492003\n"
     ]
    }
   ],
   "source": [
    "print('Test set Accuracy: ',test_acc)"
   ]
  },
  {
   "cell_type": "code",
   "execution_count": 6,
   "metadata": {},
   "outputs": [
    {
     "name": "stdout",
     "output_type": "stream",
     "text": [
      "Epoch 1/20\n",
      "11836/11836 [==============================] - 3s 240us/step - loss: 1.2836 - acc: 0.5916\n",
      "Epoch 2/20\n",
      "11836/11836 [==============================] - 2s 195us/step - loss: 0.9211 - acc: 0.7013 0s - loss: 0.9165 -\n",
      "Epoch 3/20\n",
      "11836/11836 [==============================] - 2s 156us/step - loss: 0.7263 - acc: 0.7580\n",
      "Epoch 4/20\n",
      "11836/11836 [==============================] - 2s 205us/step - loss: 0.5912 - acc: 0.7980\n",
      "Epoch 5/20\n",
      "11836/11836 [==============================] - 2s 170us/step - loss: 0.4249 - acc: 0.8559\n",
      "Epoch 6/20\n",
      "11836/11836 [==============================] - 3s 236us/step - loss: 0.3347 - acc: 0.8892\n",
      "Epoch 7/20\n",
      "11836/11836 [==============================] - 2s 181us/step - loss: 0.2615 - acc: 0.9103\n",
      "Epoch 8/20\n",
      "11836/11836 [==============================] - 2s 178us/step - loss: 0.2027 - acc: 0.9320\n",
      "Epoch 9/20\n",
      "11836/11836 [==============================] - 2s 172us/step - loss: 0.1519 - acc: 0.9488\n",
      "Epoch 10/20\n",
      "11836/11836 [==============================] - 2s 157us/step - loss: 0.1183 - acc: 0.9606\n",
      "Epoch 11/20\n",
      "11836/11836 [==============================] - 2s 162us/step - loss: 0.1286 - acc: 0.9572\n",
      "Epoch 12/20\n",
      "11836/11836 [==============================] - 2s 207us/step - loss: 0.0899 - acc: 0.9695\n",
      "Epoch 13/20\n",
      "11836/11836 [==============================] - 2s 174us/step - loss: 0.0977 - acc: 0.9678\n",
      "Epoch 14/20\n",
      "11836/11836 [==============================] - 2s 172us/step - loss: 0.0976 - acc: 0.9684\n",
      "Epoch 15/20\n",
      "11836/11836 [==============================] - 2s 184us/step - loss: 0.1122 - acc: 0.9646\n",
      "Epoch 16/20\n",
      "11836/11836 [==============================] - 2s 175us/step - loss: 0.0701 - acc: 0.9774\n",
      "Epoch 17/20\n",
      "11836/11836 [==============================] - 2s 208us/step - loss: 0.0628 - acc: 0.9820\n",
      "Epoch 18/20\n",
      "11836/11836 [==============================] - 2s 174us/step - loss: 0.0613 - acc: 0.9794\n",
      "Epoch 19/20\n",
      "11836/11836 [==============================] - 2s 185us/step - loss: 0.0563 - acc: 0.9807\n",
      "Epoch 20/20\n",
      "11836/11836 [==============================] - 2s 194us/step - loss: 0.0436 - acc: 0.9861\n"
     ]
    }
   ],
   "source": [
    "model_1 = Sequential()\n",
    "model_1.add(layers.Dense(400, activation='relu', input_shape=(X_train.shape[1],)))\n",
    "\n",
    "model_1.add(layers.Dense(250, activation='relu'))\n",
    "\n",
    "model_1.add(layers.Dense(250, activation='relu'))\n",
    "\n",
    "model_1.add(layers.Dense(250, activation='relu'))\n",
    "\n",
    "model_1.add(layers.Dense(250, activation='relu'))\n",
    "\n",
    "model_1.add(layers.Dense(12, activation='softmax'))\n",
    "\n",
    "model_1.compile(optimizer='adam',\n",
    "              loss='sparse_categorical_crossentropy',\n",
    "              metrics=['accuracy'])\n",
    "\n",
    "history_1 = model_1.fit(X_train, y_train, epochs=20, batch_size=128)"
   ]
  },
  {
   "cell_type": "code",
   "execution_count": 7,
   "metadata": {},
   "outputs": [
    {
     "name": "stdout",
     "output_type": "stream",
     "text": [
      "1293/1293 [==============================] - 0s 171us/step\n",
      "Test set Accuracy:  0.5406032484903506\n"
     ]
    }
   ],
   "source": [
    "test_loss_1, test_acc_1 = model_1.evaluate(X_test,y_test)\n",
    "print('Test set Accuracy: ',test_acc_1)"
   ]
  },
  {
   "cell_type": "code",
   "execution_count": 47,
   "metadata": {},
   "outputs": [
    {
     "name": "stdout",
     "output_type": "stream",
     "text": [
      "Epoch 1/20\n",
      "10503/10503 [==============================] - 2s 208us/step - loss: 1.3303 - acc: 0.5747\n",
      "Epoch 2/20\n",
      "10503/10503 [==============================] - 1s 119us/step - loss: 0.9679 - acc: 0.6832\n",
      "Epoch 3/20\n",
      "10503/10503 [==============================] - 1s 124us/step - loss: 0.7831 - acc: 0.7440\n",
      "Epoch 4/20\n",
      "10503/10503 [==============================] - 1s 123us/step - loss: 0.6354 - acc: 0.7900\n",
      "Epoch 5/20\n",
      "10503/10503 [==============================] - 1s 124us/step - loss: 0.5299 - acc: 0.8177\n",
      "Epoch 6/20\n",
      "10503/10503 [==============================] - 1s 128us/step - loss: 0.3602 - acc: 0.8793\n",
      "Epoch 7/20\n",
      "10503/10503 [==============================] - 1s 136us/step - loss: 0.2445 - acc: 0.9177\n",
      "Epoch 8/20\n",
      "10503/10503 [==============================] - 1s 129us/step - loss: 0.1954 - acc: 0.9360\n",
      "Epoch 9/20\n",
      "10503/10503 [==============================] - 1s 122us/step - loss: 0.2247 - acc: 0.9255\n",
      "Epoch 10/20\n",
      "10503/10503 [==============================] - 1s 123us/step - loss: 0.1087 - acc: 0.9638\n",
      "Epoch 11/20\n",
      "10503/10503 [==============================] - 1s 122us/step - loss: 0.1071 - acc: 0.9651\n",
      "Epoch 12/20\n",
      "10503/10503 [==============================] - 1s 135us/step - loss: 0.0704 - acc: 0.9759\n",
      "Epoch 13/20\n",
      "10503/10503 [==============================] - 1s 130us/step - loss: 0.1162 - acc: 0.9615\n",
      "Epoch 14/20\n",
      "10503/10503 [==============================] - 1s 123us/step - loss: 0.0664 - acc: 0.9787\n",
      "Epoch 15/20\n",
      "10503/10503 [==============================] - 1s 121us/step - loss: 0.1184 - acc: 0.9628\n",
      "Epoch 16/20\n",
      "10503/10503 [==============================] - 1s 119us/step - loss: 0.0940 - acc: 0.9703\n",
      "Epoch 17/20\n",
      "10503/10503 [==============================] - 1s 119us/step - loss: 0.0907 - acc: 0.9707\n",
      "Epoch 18/20\n",
      "10503/10503 [==============================] - 1s 120us/step - loss: 0.0416 - acc: 0.9865\n",
      "Epoch 19/20\n",
      "10503/10503 [==============================] - 1s 122us/step - loss: 0.0157 - acc: 0.9958\n",
      "Epoch 20/20\n",
      "10503/10503 [==============================] - 1s 123us/step - loss: 0.0198 - acc: 0.9941\n"
     ]
    }
   ],
   "source": [
    "model_4 = Sequential()\n",
    "model_.add(layers.Dense(400, activation='relu', input_shape=(X_train.shape[1],)))\n",
    "\n",
    "model_4.add(layers.Dense(250, activation='relu'))\n",
    "\n",
    "model_4.add(layers.Dense(150, activation='relu'))\n",
    "\n",
    "model_4.add(layers.Dense(12, activation='softmax'))\n",
    "\n",
    "model_2.compile(optimizer='adam',\n",
    "              loss='sparse_categorical_crossentropy',\n",
    "              metrics=['accuracy'])\n",
    "\n",
    "history_2 = model_2.fit(X_train, y_train, epochs=20, batch_size=128)"
   ]
  },
  {
   "cell_type": "code",
   "execution_count": 48,
   "metadata": {},
   "outputs": [
    {
     "name": "stdout",
     "output_type": "stream",
     "text": [
      "2626/2626 [==============================] - 0s 139us/step\n",
      "Test set Accuracy:  0.6923076923076923\n"
     ]
    }
   ],
   "source": [
    "test_loss_2, test_acc_2 = model_2.evaluate(X_test,y_test)\n",
    "print('Test set Accuracy: ',test_acc_2)"
   ]
  },
  {
   "cell_type": "code",
   "execution_count": 49,
   "metadata": {},
   "outputs": [
    {
     "name": "stdout",
     "output_type": "stream",
     "text": [
      "Epoch 1/20\n",
      "10503/10503 [==============================] - 2s 208us/step - loss: 1.3072 - acc: 0.5750\n",
      "Epoch 2/20\n",
      "10503/10503 [==============================] - 1s 112us/step - loss: 0.9390 - acc: 0.6938\n",
      "Epoch 3/20\n",
      "10503/10503 [==============================] - 1s 117us/step - loss: 0.7610 - acc: 0.7480\n",
      "Epoch 4/20\n",
      "10503/10503 [==============================] - 1s 112us/step - loss: 0.5861 - acc: 0.8057\n",
      "Epoch 5/20\n",
      "10503/10503 [==============================] - 1s 111us/step - loss: 0.4286 - acc: 0.8561\n",
      "Epoch 6/20\n",
      "10503/10503 [==============================] - 1s 114us/step - loss: 0.3317 - acc: 0.8866\n",
      "Epoch 7/20\n",
      "10503/10503 [==============================] - 1s 114us/step - loss: 0.2311 - acc: 0.9245\n",
      "Epoch 8/20\n",
      "10503/10503 [==============================] - 1s 113us/step - loss: 0.1821 - acc: 0.9386\n",
      "Epoch 9/20\n",
      "10503/10503 [==============================] - 1s 111us/step - loss: 0.1685 - acc: 0.9434\n",
      "Epoch 10/20\n",
      "10503/10503 [==============================] - 1s 113us/step - loss: 0.0970 - acc: 0.9712\n",
      "Epoch 11/20\n",
      "10503/10503 [==============================] - 1s 112us/step - loss: 0.1589 - acc: 0.9491\n",
      "Epoch 12/20\n",
      "10503/10503 [==============================] - 1s 114us/step - loss: 0.0443 - acc: 0.9867\n",
      "Epoch 13/20\n",
      "10503/10503 [==============================] - 1s 111us/step - loss: 0.0310 - acc: 0.9919\n",
      "Epoch 14/20\n",
      "10503/10503 [==============================] - 2s 162us/step - loss: 0.0229 - acc: 0.9936\n",
      "Epoch 15/20\n",
      "10503/10503 [==============================] - 1s 129us/step - loss: 0.0373 - acc: 0.9897\n",
      "Epoch 16/20\n",
      "10503/10503 [==============================] - 1s 122us/step - loss: 0.1206 - acc: 0.9600\n",
      "Epoch 17/20\n",
      "10503/10503 [==============================] - 1s 127us/step - loss: 0.1091 - acc: 0.9632\n",
      "Epoch 18/20\n",
      "10503/10503 [==============================] - 1s 131us/step - loss: 0.0795 - acc: 0.9729\n",
      "Epoch 19/20\n",
      "10503/10503 [==============================] - 1s 124us/step - loss: 0.1860 - acc: 0.9435\n",
      "Epoch 20/20\n",
      "10503/10503 [==============================] - 2s 151us/step - loss: 0.0688 - acc: 0.9776\n"
     ]
    }
   ],
   "source": [
    "model_3 = Sequential()\n",
    "model_3.add(layers.Dense(400, activation='relu', input_shape=(X_train.shape[1],)))\n",
    "\n",
    "model_3.add(layers.Dense(150, activation='relu'))\n",
    "\n",
    "model_3.add(layers.Dense(150, activation='relu'))\n",
    "\n",
    "model_3.add(layers.Dense(150, activation='relu'))\n",
    "\n",
    "model_3.add(layers.Dense(12, activation='softmax'))\n",
    "\n",
    "model_3.compile(optimizer='adam',\n",
    "              loss='sparse_categorical_crossentropy',\n",
    "              metrics=['accuracy'])\n",
    "\n",
    "history_3 = model_3.fit(X_train, y_train, epochs=20, batch_size=128)"
   ]
  },
  {
   "cell_type": "code",
   "execution_count": 50,
   "metadata": {},
   "outputs": [
    {
     "name": "stdout",
     "output_type": "stream",
     "text": [
      "2626/2626 [==============================] - 0s 174us/step\n",
      "Test set Accuracy:  0.6648895658796649\n"
     ]
    }
   ],
   "source": [
    "test_loss_3, test_acc_3 = model_3.evaluate(X_test,y_test)\n",
    "print('Test set Accuracy: ',test_acc_3)"
   ]
  },
  {
   "cell_type": "code",
   "execution_count": 74,
   "metadata": {},
   "outputs": [
    {
     "name": "stdout",
     "output_type": "stream",
     "text": [
      "2626/2626 [==============================] - 1s 227us/step\n",
      "Test set Accuracy:  0.6785986290936786\n"
     ]
    }
   ],
   "source": [
    "test_loss_4, test_acc_4 = model_4.evaluate(X_test,y_test)\n",
    "print('Test set Accuracy: ',test_acc_4)"
   ]
  },
  {
   "cell_type": "markdown",
   "metadata": {},
   "source": [
    "## Deep Learning Model on Dataset w/o Echonest Features"
   ]
  },
  {
   "cell_type": "code",
   "execution_count": 12,
   "metadata": {},
   "outputs": [],
   "source": [
    "dataset2 = build_dataset.get_dataset()"
   ]
  },
  {
   "cell_type": "code",
   "execution_count": 13,
   "metadata": {},
   "outputs": [],
   "source": [
    "dataset2 = dataset2.dropna()"
   ]
  },
  {
   "cell_type": "code",
   "execution_count": 14,
   "metadata": {},
   "outputs": [],
   "source": [
    "X_train2, X_test2, y_train2, y_test2 = process_dataset(dataset2)"
   ]
  },
  {
   "cell_type": "code",
   "execution_count": 10,
   "metadata": {},
   "outputs": [
    {
     "name": "stdout",
     "output_type": "stream",
     "text": [
      "Epoch 1/20\n",
      "11836/11836 [==============================] - 8s 718us/step - loss: 1.3115 - acc: 0.5817\n",
      "Epoch 2/20\n",
      "11836/11836 [==============================] - 8s 701us/step - loss: 0.9834 - acc: 0.6855\n",
      "Epoch 3/20\n",
      "11836/11836 [==============================] - 10s 869us/step - loss: 0.8250 - acc: 0.7340\n",
      "Epoch 4/20\n",
      "11836/11836 [==============================] - 8s 712us/step - loss: 0.6614 - acc: 0.7838\n",
      "Epoch 5/20\n",
      "11836/11836 [==============================] - 9s 743us/step - loss: 0.5406 - acc: 0.8222\n",
      "Epoch 6/20\n",
      "11836/11836 [==============================] - 9s 793us/step - loss: 0.4185 - acc: 0.8647\n",
      "Epoch 7/20\n",
      "11836/11836 [==============================] - 13s 1ms/step - loss: 0.3328 - acc: 0.8906\n",
      "Epoch 8/20\n",
      "11836/11836 [==============================] - 10s 877us/step - loss: 0.2713 - acc: 0.9122\n",
      "Epoch 9/20\n",
      "11836/11836 [==============================] - 9s 757us/step - loss: 0.2355 - acc: 0.9234\n",
      "Epoch 10/20\n",
      "11836/11836 [==============================] - 8s 699us/step - loss: 0.1922 - acc: 0.9398\n",
      "Epoch 11/20\n",
      "11836/11836 [==============================] - 8s 644us/step - loss: 0.1704 - acc: 0.9465\n",
      "Epoch 12/20\n",
      "11836/11836 [==============================] - 7s 631us/step - loss: 0.1233 - acc: 0.9605\n",
      "Epoch 13/20\n",
      "11836/11836 [==============================] - 8s 645us/step - loss: 0.1218 - acc: 0.9643\n",
      "Epoch 14/20\n",
      "11836/11836 [==============================] - 7s 621us/step - loss: 0.0913 - acc: 0.9701\n",
      "Epoch 15/20\n",
      "11836/11836 [==============================] - 7s 627us/step - loss: 0.0921 - acc: 0.9723\n",
      "Epoch 16/20\n",
      "11836/11836 [==============================] - 8s 650us/step - loss: 0.0875 - acc: 0.9745\n",
      "Epoch 17/20\n",
      "11836/11836 [==============================] - 9s 740us/step - loss: 0.0731 - acc: 0.9788\n",
      "Epoch 18/20\n",
      "11836/11836 [==============================] - 8s 688us/step - loss: 0.0768 - acc: 0.9764\n",
      "Epoch 19/20\n",
      "11836/11836 [==============================] - 9s 726us/step - loss: 0.1240 - acc: 0.9668\n",
      "Epoch 20/20\n",
      "11836/11836 [==============================] - 8s 674us/step - loss: 0.0844 - acc: 0.9769\n"
     ]
    }
   ],
   "source": [
    "model_5 = Sequential()\n",
    "model_5.add(layers.Dense(600, activation='relu', input_shape=(X_train.shape[1],)))\n",
    "\n",
    "model_5.add(layers.Dense(800, activation='relu'))\n",
    "\n",
    "model_5.add(layers.Dense(800, activation='relu'))\n",
    "\n",
    "model_5.add(layers.Dense(800, activation='relu'))\n",
    "\n",
    "model_5.add(layers.Dense(800, activation='relu'))\n",
    "\n",
    "model_5.add(layers.Dense(800, activation='relu'))\n",
    "\n",
    "model_5.add(layers.Dense(12, activation='softmax'))\n",
    "\n",
    "model_5.compile(optimizer='adam',\n",
    "              loss='sparse_categorical_crossentropy',\n",
    "              metrics=['accuracy'])\n",
    "\n",
    "history_5 = model_5.fit(X_train, y_train, epochs=20, batch_size=128)"
   ]
  },
  {
   "cell_type": "code",
   "execution_count": 12,
   "metadata": {},
   "outputs": [
    {
     "name": "stdout",
     "output_type": "stream",
     "text": [
      "1293/1293 [==============================] - 1s 582us/step\n",
      "Test set Accuracy:  0.5460170147175578\n"
     ]
    }
   ],
   "source": [
    "test_loss_5, test_acc_5 = model_5.evaluate(X_test,y_test)\n",
    "print('Test set Accuracy: ',test_acc_5)"
   ]
  },
  {
   "cell_type": "code",
   "execution_count": null,
   "metadata": {},
   "outputs": [],
   "source": []
  }
 ],
 "metadata": {
  "kernelspec": {
   "display_name": "Python [conda env:Capstone2] *",
   "language": "python",
   "name": "conda-env-Capstone2-py"
  },
  "language_info": {
   "codemirror_mode": {
    "name": "ipython",
    "version": 3
   },
   "file_extension": ".py",
   "mimetype": "text/x-python",
   "name": "python",
   "nbconvert_exporter": "python",
   "pygments_lexer": "ipython3",
   "version": "3.7.3"
  }
 },
 "nbformat": 4,
 "nbformat_minor": 2
}
