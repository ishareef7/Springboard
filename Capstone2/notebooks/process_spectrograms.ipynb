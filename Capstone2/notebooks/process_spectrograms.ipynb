{
 "cells": [
  {
   "cell_type": "code",
   "execution_count": 1,
   "metadata": {},
   "outputs": [],
   "source": [
    "import sys\n",
    "import glob\n",
    "import os\n",
    "import ffmpeg\n",
    "import audioread\n",
    "from pydub import AudioSegment\n",
    "import librosa\n",
    "import numpy as np\n",
    "import pandas as pd\n",
    "import matplotlib.pyplot as plt\n",
    "import librosa.display\n",
    "import pickle"
   ]
  },
  {
   "cell_type": "code",
   "execution_count": 2,
   "metadata": {},
   "outputs": [],
   "source": [
    "fma_path = 'C:/Users/ishmail.grady/Downloads/fma_small'\n",
    "sys.path.append(fma_path)"
   ]
  },
  {
   "cell_type": "code",
   "execution_count": 3,
   "metadata": {},
   "outputs": [],
   "source": [
    "metadata_path = 'C:/Users/ishmail.grady/Downloads/metadata'\n",
    "\n",
    "genres_path = 'C:/Users/ishmail.grady/Downloads/metadata/genres.csv'\n",
    "tracks_path = 'C:/Users/ishmail.grady/Downloads/metadata/tracks.csv'\n",
    "\n",
    "sys.path.append(metadata_path)"
   ]
  },
  {
   "cell_type": "code",
   "execution_count": 4,
   "metadata": {},
   "outputs": [],
   "source": [
    "genres = pd.read_csv(genres_path, index_col = 0)\n",
    "tracks = pd.read_csv(tracks_path, header = [0,1], index_col = 0)"
   ]
  },
  {
   "cell_type": "code",
   "execution_count": 5,
   "metadata": {},
   "outputs": [],
   "source": [
    "cols = [('set', 'split'), ('set', 'subset'), ('track', 'genre_top')]\n",
    "tracks = tracks[cols]"
   ]
  },
  {
   "cell_type": "code",
   "execution_count": 6,
   "metadata": {},
   "outputs": [],
   "source": [
    "def get_files(basedir, ext = '.mp3'):\n",
    "    paths = []\n",
    "    for root, dirs, files in os.walk(basedir):\n",
    "        files = glob.glob(os.path.join( root, '*'+ext))\n",
    "        paths.extend(files)\n",
    "    return paths"
   ]
  },
  {
   "cell_type": "code",
   "execution_count": 7,
   "metadata": {},
   "outputs": [],
   "source": [
    "def make_spectrogram(file_path):\n",
    "    y , sr = librosa.load(file_path)\n",
    "    spect = librosa.feature.melspectrogram( y = y, sr = sr, n_fft = 2048, hop_length = 512)\n",
    "    spect = librosa.power_to_db(spect, ref = np.max)\n",
    "    return spect.T"
   ]
  },
  {
   "cell_type": "code",
   "execution_count": 8,
   "metadata": {},
   "outputs": [],
   "source": [
    "def plot_spectrogram(spect):\n",
    "    plt.figure(figsize = (10,5))\n",
    "    librosa.display.specshow(spect.T, y_axis = 'mel', fmax = 8000, x_axis = 'time')\n",
    "    plt.colorbar( format = '%+2.0f dB')\n",
    "    plt.show()\n",
    "    "
   ]
  },
  {
   "cell_type": "code",
   "execution_count": 15,
   "metadata": {},
   "outputs": [],
   "source": [
    "def create_array(paths):\n",
    "    X_spect = np.empty((0,640,128))\n",
    "    failed_tracks = []\n",
    "    count = 0\n",
    "    for file in paths:\n",
    "        try:\n",
    "            count += 1\n",
    "            spect = make_spectrogram(file)\n",
    "            spect = spect[:640, :]\n",
    "            X_spect = np.append(X_spect, [spect], axis = 0)\n",
    "            \n",
    "            if count % 100 == 0:\n",
    "                print('Currently processing: ', count)\n",
    "        except:\n",
    "            failed_tracks.append(file)\n",
    "            print('Could Not Process: ', count)\n",
    "            continue\n",
    "    return X_spect , failed_tracks"
   ]
  },
  {
   "cell_type": "code",
   "execution_count": 16,
   "metadata": {},
   "outputs": [],
   "source": [
    "track_paths = get_files(fma_path)"
   ]
  },
  {
   "cell_type": "code",
   "execution_count": 17,
   "metadata": {
    "scrolled": true
   },
   "outputs": [
    {
     "name": "stdout",
     "output_type": "stream",
     "text": [
      "Currently processing:  100\n",
      "Currently processing:  200\n",
      "Currently processing:  300\n",
      "Currently processing:  400\n",
      "Currently processing:  500\n",
      "Currently processing:  600\n",
      "Currently processing:  700\n",
      "Currently processing:  800\n",
      "Currently processing:  900\n",
      "Currently processing:  1000\n",
      "Currently processing:  1100\n",
      "Currently processing:  1200\n",
      "Currently processing:  1300\n",
      "Currently processing:  1400\n",
      "Currently processing:  1500\n",
      "Currently processing:  1600\n",
      "Currently processing:  1700\n",
      "Currently processing:  1800\n",
      "Currently processing:  1900\n",
      "Currently processing:  2000\n",
      "Currently processing:  2100\n",
      "Currently processing:  2200\n",
      "Currently processing:  2300\n",
      "Currently processing:  2400\n",
      "Currently processing:  2500\n",
      "Currently processing:  2600\n",
      "Currently processing:  2700\n",
      "Currently processing:  2800\n",
      "Currently processing:  2900\n",
      "Currently processing:  3000\n",
      "Currently processing:  3100\n",
      "Currently processing:  3200\n",
      "Currently processing:  3300\n",
      "Currently processing:  3400\n",
      "Currently processing:  3500\n",
      "Currently processing:  3600\n",
      "Currently processing:  3700\n",
      "Currently processing:  3800\n",
      "Currently processing:  3900\n",
      "Currently processing:  4000\n",
      "Currently processing:  4100\n",
      "Currently processing:  4200\n",
      "Currently processing:  4300\n",
      "Currently processing:  4400\n",
      "Could Not Process:  4424\n",
      "Could Not Process:  4425\n",
      "Could Not Process:  4426\n",
      "Could Not Process:  4471\n",
      "Currently processing:  4500\n",
      "Currently processing:  4600\n",
      "Currently processing:  4700\n",
      "Currently processing:  4800\n",
      "Currently processing:  4900\n",
      "Could Not Process:  4904\n",
      "Currently processing:  5000\n",
      "Currently processing:  5100\n",
      "Currently processing:  5200\n",
      "Currently processing:  5300\n",
      "Currently processing:  5400\n",
      "Currently processing:  5500\n",
      "Currently processing:  5600\n",
      "Currently processing:  5700\n",
      "Currently processing:  5800\n",
      "Currently processing:  5900\n",
      "Currently processing:  6000\n",
      "Currently processing:  6100\n",
      "Currently processing:  6200\n",
      "Currently processing:  6300\n",
      "Currently processing:  6400\n",
      "Currently processing:  6500\n",
      "Currently processing:  6600\n",
      "Currently processing:  6700\n",
      "Currently processing:  6800\n",
      "Currently processing:  6900\n",
      "Could Not Process:  6966\n",
      "Currently processing:  7000\n",
      "Currently processing:  7100\n",
      "Currently processing:  7200\n",
      "Currently processing:  7300\n",
      "Currently processing:  7400\n",
      "Currently processing:  7500\n",
      "Currently processing:  7600\n",
      "Currently processing:  7700\n",
      "Currently processing:  7800\n",
      "Currently processing:  7900\n",
      "Currently processing:  8000\n"
     ]
    }
   ],
   "source": [
    "X_spect , failed_tracks  = create_array(track_paths)"
   ]
  },
  {
   "cell_type": "code",
   "execution_count": 75,
   "metadata": {},
   "outputs": [
    {
     "data": {
      "text/plain": [
       "(7994, 640, 128)"
      ]
     },
     "execution_count": 75,
     "metadata": {},
     "output_type": "execute_result"
    }
   ],
   "source": [
    "X_spect.shape"
   ]
  },
  {
   "cell_type": "code",
   "execution_count": 76,
   "metadata": {},
   "outputs": [],
   "source": [
    "X_spect_scaled = librosa.core.db_to_power(X_spect, ref = 1.0)"
   ]
  },
  {
   "cell_type": "code",
   "execution_count": 90,
   "metadata": {},
   "outputs": [],
   "source": [
    "X_spect_log = np.log(X_spect_scaled)"
   ]
  },
  {
   "cell_type": "code",
   "execution_count": 91,
   "metadata": {},
   "outputs": [],
   "source": [
    "np.savez('all_spects_scaled',X_spect_log)"
   ]
  },
  {
   "cell_type": "code",
   "execution_count": 28,
   "metadata": {},
   "outputs": [],
   "source": [
    "tracks.columns = tracks.columns.droplevel(0)"
   ]
  },
  {
   "cell_type": "code",
   "execution_count": 31,
   "metadata": {},
   "outputs": [],
   "source": [
    "tracks_small  = tracks[tracks.subset == 'small']"
   ]
  },
  {
   "cell_type": "code",
   "execution_count": 56,
   "metadata": {},
   "outputs": [],
   "source": [
    "genres = []\n",
    "splits = []\n",
    "track_ids = [int(t[-10:-4]) for t in track_paths]\n",
    "for t in track_ids:\n",
    "    genres.append(tracks_small.loc[t, 'genre_top'])\n",
    "    splits.append(tracks_small.loc[t, 'split'])"
   ]
  },
  {
   "cell_type": "code",
   "execution_count": 58,
   "metadata": {},
   "outputs": [],
   "source": [
    "data = {'split':splits,'genre_top':genres}\n",
    "track_info = pd.DataFrame(data, index = track_ids)"
   ]
  },
  {
   "cell_type": "code",
   "execution_count": 61,
   "metadata": {},
   "outputs": [],
   "source": [
    "failed_track_ids = [int(t[-10:-4]) for t in failed_tracks]"
   ]
  },
  {
   "cell_type": "code",
   "execution_count": 65,
   "metadata": {},
   "outputs": [],
   "source": [
    "track_info = track_info.drop(failed_track_ids)"
   ]
  },
  {
   "cell_type": "code",
   "execution_count": 71,
   "metadata": {},
   "outputs": [],
   "source": [
    "track_info.to_pickle('track_info.pickle')"
   ]
  },
  {
   "cell_type": "code",
   "execution_count": null,
   "metadata": {},
   "outputs": [],
   "source": []
  }
 ],
 "metadata": {
  "kernelspec": {
   "display_name": "Python [conda env:Capstone2] *",
   "language": "python",
   "name": "conda-env-Capstone2-py"
  },
  "language_info": {
   "codemirror_mode": {
    "name": "ipython",
    "version": 3
   },
   "file_extension": ".py",
   "mimetype": "text/x-python",
   "name": "python",
   "nbconvert_exporter": "python",
   "pygments_lexer": "ipython3",
   "version": "3.7.3"
  }
 },
 "nbformat": 4,
 "nbformat_minor": 2
}
