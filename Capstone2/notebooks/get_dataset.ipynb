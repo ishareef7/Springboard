{
 "cells": [
  {
   "cell_type": "code",
   "execution_count": 5,
   "metadata": {},
   "outputs": [],
   "source": [
    "import pandas as pd\n",
    "import numpy as np\n",
    "import os"
   ]
  },
  {
   "cell_type": "code",
   "execution_count": 6,
   "metadata": {},
   "outputs": [],
   "source": [
    "#path to folder that contains the raw data files\n",
    "data_file_path = '/Users/ishareef7/Springboard/Capstone2/data/raw/fma_metadata'\n",
    "\n",
    "features_path = os.path.join(data_file_path,'features.csv')\n",
    "echonest_path = os.path.join(data_file_path,'echonest.csv')\n",
    "tracks_path = os.path.join(data_file_path,'tracks.csv')"
   ]
  },
  {
   "cell_type": "code",
   "execution_count": 23,
   "metadata": {},
   "outputs": [],
   "source": [
    "features =  pd.read_csv(features_path ,header = [0,1,2], index_col = 0)\n",
    "echonest = pd.read_csv(echonest_path , skiprows = [0], header = [0,1], index_col = 0)\n",
    "tracks = pd.read_csv(tracks_path, header = [0,1], index_col = 0)"
   ]
  }
 ],
 "metadata": {
  "kernelspec": {
   "display_name": "Python 3",
   "language": "python",
   "name": "python3"
  },
  "language_info": {
   "codemirror_mode": {
    "name": "ipython",
    "version": 3
   },
   "file_extension": ".py",
   "mimetype": "text/x-python",
   "name": "python",
   "nbconvert_exporter": "python",
   "pygments_lexer": "ipython3",
   "version": "3.7.1"
  }
 },
 "nbformat": 4,
 "nbformat_minor": 2
}
