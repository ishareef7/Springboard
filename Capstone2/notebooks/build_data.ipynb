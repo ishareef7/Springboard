{
 "cells": [
  {
   "cell_type": "code",
   "execution_count": 2,
   "metadata": {},
   "outputs": [],
   "source": [
    "import pandas as pd\n",
    "import numpy as np\n",
    "import os\n",
    "import sys\n",
    "import ast"
   ]
  },
  {
   "cell_type": "code",
   "execution_count": 3,
   "metadata": {},
   "outputs": [],
   "source": [
    "mod_path = '/Users/ishareef7/Springboard/Capstone2'\n",
    "sys.path.append(mod_path)\n",
    "from src.features import build_dataset"
   ]
  },
  {
   "cell_type": "code",
   "execution_count": 4,
   "metadata": {},
   "outputs": [],
   "source": [
    "features = build_dataset.get_features()\n",
    "echonest = build_dataset.get_echonest()\n",
    "tracks = build_dataset.get_tracks()\n",
    "genres = build_dataset.get_genres()"
   ]
  },
  {
   "cell_type": "code",
   "execution_count": 4,
   "metadata": {},
   "outputs": [],
   "source": [
    "tracks['track','genres'] = tracks['track','genres'].apply(lambda x: ast.literal_eval(x))"
   ]
  },
  {
   "cell_type": "code",
   "execution_count": 5,
   "metadata": {},
   "outputs": [],
   "source": [
    "idx = pd.IndexSlice\n",
    "track_info = tracks.loc[:, idx[['set','track'], ['split', 'subset','genre_top','genres']]].copy()\n",
    "track_info.columns = track_info.columns.droplevel(0)"
   ]
  },
  {
   "cell_type": "code",
   "execution_count": 6,
   "metadata": {},
   "outputs": [],
   "source": [
    "null_mask = track_info['genre_top'].isnull().copy()\n",
    "null_genres = track_info[null_mask]\n",
    "empty_mask = [len(x)>0 for x in  null_genres['genres']]\n",
    "null_genres = null_genres[empty_mask]"
   ]
  },
  {
   "cell_type": "code",
   "execution_count": 7,
   "metadata": {},
   "outputs": [],
   "source": [
    "genre_dict = dict(genres['title'])"
   ]
  },
  {
   "cell_type": "code",
   "execution_count": 8,
   "metadata": {},
   "outputs": [],
   "source": [
    "null_genres['genre_top'] = null_genres['genres'].apply(lambda x: x[0])\n",
    "top_genres = [ genre_dict[x] for x in null_genres['genre_top'].values]"
   ]
  },
  {
   "cell_type": "code",
   "execution_count": 9,
   "metadata": {},
   "outputs": [],
   "source": [
    "echonest_features = echonest.loc[:, idx[['audio_features', 'temporal_features'],:]]"
   ]
  },
  {
   "cell_type": "code",
   "execution_count": 10,
   "metadata": {},
   "outputs": [],
   "source": [
    "#Flatten Indexes\n",
    "features.columns = ['_'.join(col).strip('_') for col in features.columns.values]\n",
    "echonest_features.columns = ['_'.join(col).rstrip('_') for col in echonest_features.columns.values]"
   ]
  },
  {
   "cell_type": "code",
   "execution_count": 11,
   "metadata": {},
   "outputs": [],
   "source": [
    "track_info.loc[null_genres.index, 'genre_top']  = top_genres"
   ]
  },
  {
   "cell_type": "code",
   "execution_count": 12,
   "metadata": {},
   "outputs": [],
   "source": [
    "top_genre_dict = dict(zip(genres['title'], genres['top_level']))\n",
    "track_info['genre_top'] = track_info['genre_top'].map(top_genre_dict)"
   ]
  },
  {
   "cell_type": "code",
   "execution_count": 13,
   "metadata": {},
   "outputs": [],
   "source": [
    "dataset_echonest = features.join(echonest_features, how = 'inner').join(track_info, how = 'inner')\n",
    "dataset_no_echnoest = features.join(track_info, how = 'inner')"
   ]
  }
 ],
 "metadata": {
  "kernelspec": {
   "display_name": "Python 3",
   "language": "python",
   "name": "python3"
  }
 },
 "nbformat": 4,
 "nbformat_minor": 2
}
